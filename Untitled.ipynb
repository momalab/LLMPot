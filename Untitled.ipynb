{
 "cells": [
  {
   "cell_type": "code",
   "execution_count": 3,
   "id": "7f960e25-d72a-4fbb-9b31-8668df7881ce",
   "metadata": {},
   "outputs": [
    {
     "name": "stdout",
     "output_type": "stream",
     "text": [
      "Invalid. Exception_counter: 1. Exception: Trans_ID: ['00', '01'], expected: ['e4', '97']\n"
     ]
    }
   ],
   "source": [
    "import socket\n",
    "import pandas as pd\n",
    "#from packet_validator import Validator\n",
    "\n",
    "test_set = pd.read_csv(\"/home/dunia/ICSPot/src/simulation/validation/test_set.csv\")\n",
    "\n",
    "def packet_chunks(query, dataFromServer):\n",
    "    hex_chunks_query = [query[i:i + 2] for i in range(0, len(query), 2)] #print(f\"hex_chunks_query is {hex_chunks_query}, len is {len(hex_chunks_query)}\")\n",
    "    hex_chunks_response = [dataFromServer[i:i + 2] for i in range(0, len(dataFromServer), 2)] #print(f\"hex_chunks_response is {hex_chunks_response}, len is {len(hex_chunks_response)}\")\n",
    "    # DIVIDE Header and payload\n",
    "    query_header = hex_chunks_query[:7] #print(f\"query_header is {query_header}, len is {len(query_header)}\")\n",
    "    query_payload = hex_chunks_query[7:] #print(f\"query_payload is {query_payload}, len is {len(query_payload)}\")\n",
    "    response_header = hex_chunks_response[:7] #print(f\"response_header is {response_header}, len is {len(response_header)}\")\n",
    "    response_payload = hex_chunks_response[7:] #print(f\"response_payload is {response_payload}, len is {len(response_payload)}\")\n",
    "    return query_header, query_payload, response_header, response_payload \n",
    "\n",
    "def check_header_IDs(query_header, response_header, query_payload):\n",
    "    q_TID = query_header[:2]\n",
    "    r_TID = response_header[:2]\n",
    "    if r_TID != q_TID:\n",
    "        raise Exception(f\"Trans_ID: {r_TID}, expected: {q_TID}\")\n",
    "    q_PID = query_header[2:4]\n",
    "    r_PID = response_header[2:4]\n",
    "    if r_PID != q_PID:\n",
    "        raise Exception(f\"Protocol_ID: {r_PID}, expected: {q_PID}\")\n",
    "    q_UID = query_header[-1]\n",
    "    r_UID = response_header[-1]\n",
    "    if r_UID != q_UID:\n",
    "        raise Exception(f\"Uni_ID: {r_UID}, expected: {q_UID}\")\n",
    "    length = int(query_header[5], base=16)\n",
    "    expected_length = len(query_payload)+1\n",
    "    if length != expected_length:\n",
    "        raise Exception(f\"length: {length}, expected: {expected_length}\")\n",
    "\n",
    "def check_payload(query_payload, response_payload): \n",
    "    fc = response_payload[0]\n",
    "    q_FC = query_payload[0]\n",
    "    r_FC = response_payload[0]\n",
    "    if r_FC != q_FC:\n",
    "        raise Exception(f\"FC: {r_FC}, expected: {q_FC}\")\n",
    "\n",
    "    if fc == \"01\": #Note: reference number cant be verified - depicted on wireshark only/ the Bit Count \n",
    "        bit_count = int(query_payload[-1], base=16)\n",
    "        byte_count = int(response_payload[1], base=16)\n",
    "        expected_byte_count = int(bit_count/8)+1\n",
    "        if byte_count != expected_byte_count:\n",
    "            raise Exception(f\"byte_count: {byte_count}, expected: {expected_byte_count}\")\n",
    "        \n",
    "    if fc == \"03\": #Note: reference (registers address) cant be verified - depicted on wireshark only\n",
    "        word_count = int(query_payload[-1], base=16)\n",
    "        num_registers = int(len(response_payload[2:])/2)\n",
    "        if num_registers != word_count:\n",
    "            raise Exception(f\"num_registers: {num_registers}, expected: {word_count}\")\n",
    "        byte_count = int(response_payload[1], base=16)\n",
    "        length_regiters = len(response_payload[2:])\n",
    "        if byte_count != length_regiters:\n",
    "            raise Exception(f\"byte_count: {byte_count}, expected: {length_regiters}\")\n",
    "\n",
    "    if fc == \"05\": #Note: response must be exactly the same as the query (length as well)\n",
    "        if response_payload != query_payload:\n",
    "            raise Exception(f\"payload: {response_payload}, expected: {query_payload}\")\n",
    "\n",
    "    if fc == \"15\": # Note: response payload = query payload up to the Bit Count/ query has additional attributes Byte count and Data (1byte each) - 5chunks\n",
    "        q_ref = query_payload[1:3]\n",
    "        r_ref = response_payload[1:3]\n",
    "        if r_ref != q_ref:\n",
    "            raise Exception(f\"Reference: {r_ref}, expected: {q_ref}\")\n",
    "        q_bitCount = query_payload[3:5]\n",
    "        r_bitCount = response_payload[3:5]\n",
    "        if r_bitCount != q_bitCount:\n",
    "            raise Exception(f\"Bit_Count: {r_bitCount}, expected: {q_bitCount}\") \n",
    "        q_byte_count = int(query_payload[5], base=16)\n",
    "        data_length = len(query_payload) - len(query_payload[:6])\n",
    "        if data_length != q_byte_count:\n",
    "            raise Exception(f\"data_length: {data_length}, expected: {q_byte_count}\")\n",
    "\n",
    "    if fc == \"16\":\n",
    "        q_ref = query_payload[1:3]\n",
    "        r_ref = response_payload[1:3]\n",
    "        if r_ref != q_ref:\n",
    "            raise Exception(f\"Reference: {r_ref}, expected: {q_ref}\")\n",
    "        q_wordCount = query_payload[3:5]\n",
    "        r_wordCount = response_payload[3:5]\n",
    "        if r_wordCount != q_wordCount:\n",
    "            raise Exception(f\"Word_count: {r_wordCount}, expected: {q_wordCount}\")\n",
    "        word_count = int(query_payload[4], base=16) #word count = number of registers\n",
    "        num_registers = int(len(query_payload[6:])/2)\n",
    "        if num_registers != word_count:\n",
    "            raise Exception(f\"num_registers: {num_registers}, expected: {word_count}\")\n",
    "        byte_count = int(query_payload[5], base=16) #byte count = number of bytes for all registers \n",
    "        bytes_registers = len(query_payload[6:])\n",
    "        if bytes_registers != byte_count:\n",
    "            raise Exception(f\"bytes_registers: {bytes_registers}, expected: {byte_count}\")\n",
    "\n",
    "list = []\n",
    "counter_invalid = 0\n",
    "\n",
    "for i in range(1): #len(test_set)): \n",
    "    try:\n",
    "        query = test_set['request'][i]\n",
    "        #query = \"000100000006000300530003\"\n",
    "        #print('query is:', query)\n",
    "        #clientSocket.sendall(bytes.fromhex(query))\n",
    "        #dataFromServer = clientSocket.recv(1024)\n",
    "        dataFromServer = \"0001000000090003065236ab18bb38\"\n",
    "        #dataFromServer = dataFromServer.hex()\n",
    "        #print(f\"dataFromServer is:{dataFromServer}\")\n",
    "\n",
    "        query_header, query_payload, response_header, response_payload = packet_chunks(query, dataFromServer)\n",
    "        check_header_IDs(query_header, response_header, query_payload)\n",
    "        check_payload(query_payload, response_payload)\n",
    "        print(\"Valid\")\n",
    "\n",
    "    except Exception as e:\n",
    "        counter_invalid += 1\n",
    "        print(f\"Invalid. Exception_counter: {counter_invalid}. Exception: {e}\")\n"
   ]
  },
  {
   "cell_type": "code",
   "execution_count": 4,
   "id": "6e3835fb-36b1-491f-bba3-205ad346e0ed",
   "metadata": {},
   "outputs": [
    {
     "data": {
      "text/plain": [
       "'e49700000006000300090004'"
      ]
     },
     "execution_count": 4,
     "metadata": {},
     "output_type": "execute_result"
    }
   ],
   "source": [
    "query"
   ]
  },
  {
   "cell_type": "code",
   "execution_count": 6,
   "id": "4bedf5bc-305b-4ff2-8d4e-de3968b631b6",
   "metadata": {},
   "outputs": [],
   "source": [
    "query_list = [test_set['request'][0], \"e4980000000f00100009000408fc1365a30ccdccce\", \"e49900000006000300090004\"]"
   ]
  },
  {
   "cell_type": "code",
   "execution_count": 9,
   "id": "67205d11-80a5-46a2-bc25-01c5f24cb081",
   "metadata": {},
   "outputs": [
    {
     "data": {
      "text/plain": [
       "'e4980000000f00100009000408fc1365a30ccdccce'"
      ]
     },
     "execution_count": 9,
     "metadata": {},
     "output_type": "execute_result"
    }
   ],
   "source": [
    "query_list[1]"
   ]
  },
  {
   "cell_type": "code",
   "execution_count": null,
   "id": "3db6be2b-9e3a-4f59-835a-2dbf45eeeaa2",
   "metadata": {},
   "outputs": [],
   "source": []
  }
 ],
 "metadata": {
  "kernelspec": {
   "display_name": "Python 3 (ipykernel)",
   "language": "python",
   "name": "python3"
  },
  "language_info": {
   "codemirror_mode": {
    "name": "ipython",
    "version": 3
   },
   "file_extension": ".py",
   "mimetype": "text/x-python",
   "name": "python",
   "nbconvert_exporter": "python",
   "pygments_lexer": "ipython3",
   "version": "3.10.12"
  }
 },
 "nbformat": 4,
 "nbformat_minor": 5
}
