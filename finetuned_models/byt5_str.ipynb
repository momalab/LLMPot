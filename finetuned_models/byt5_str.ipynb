{
 "cells": [
  {
   "cell_type": "code",
   "execution_count": 5,
   "id": "8702d0c0",
   "metadata": {},
   "outputs": [
    {
     "name": "stderr",
     "output_type": "stream",
     "text": [
      "2023-08-01 11:25:50.580002: I tensorflow/core/platform/cpu_feature_guard.cc:182] This TensorFlow binary is optimized to use available CPU instructions in performance-critical operations.\n",
      "To enable the following instructions: AVX2 FMA, in other operations, rebuild TensorFlow with the appropriate compiler flags.\n",
      "2023-08-01 11:25:51.205439: W tensorflow/compiler/tf2tensorrt/utils/py_utils.cc:38] TF-TRT Warning: Could not find TensorRT\n",
      "Global seed set to 42\n"
     ]
    }
   ],
   "source": [
    "#load model\n",
    "import transformers\n",
    "from simplet5 import SimpleT5\n",
    "model = SimpleT5()\n",
    "model.from_pretrained(\"byt5\",\"google/byt5-small\")\n",
    "\n",
    "#dataframe dataset\n",
    "import pandas as pd\n",
    "import numpy as np\n",
    "\n",
    "df_1 = pd.read_csv(\"df_out_0,5h_str.csv\") \n",
    "df_2 = pd.read_csv(\"df_out_1h_str.csv\") \n",
    "df_3 = pd.read_csv(\"df_out_6h_str.csv\") \n",
    "df_4 = pd.read_csv(\"df_out_modbus_str.csv\")\n",
    "df_5 = pd.read_csv(\"df_out_modbus_test_part1_str.csv\") \n",
    "df_6 = pd.read_csv(\"df_out_modbus_polling6RTU_str.csv\") \n",
    "df_7 = pd.read_csv(\"df_out_modbus_test_part1,2_str.csv\") \n",
    "df_8 = pd.read_csv(\"df_out_modbus_test_part2_str.csv\") \n",
    "df_9 = pd.read_csv(\"df_out_modbus_test_part2,2_str.csv\") \n",
    "\n",
    "full_dataset = pd.concat([df_1.set_index('Unnamed: 0'), df_2.set_index('Unnamed: 0'),df_3.set_index('Unnamed: 0'),df_4.set_index('Unnamed: 0'), df_5.set_index('Unnamed: 0'),df_6.set_index('Unnamed: 0'), df_7.set_index('Unnamed: 0'),df_8.set_index('Unnamed: 0'), df_9.set_index('Unnamed: 0')], axis = 0)\n",
    "full_dataset.reset_index(level=None, drop=True, inplace=True) #reorder the index values\n",
    "\n",
    "full_dataset = full_dataset[['source_text', 'target_text']]\n",
    "\n",
    "#Split train and test sets\n",
    "from sklearn.model_selection import train_test_split\n",
    "train_df, test_df = train_test_split(full_dataset, test_size=0.1)"
   ]
  },
  {
   "cell_type": "code",
   "execution_count": 25,
   "id": "be2b1df8",
   "metadata": {},
   "outputs": [
    {
     "name": "stdout",
     "output_type": "stream",
     "text": [
      "1972\n",
      "3858\n",
      "22677\n",
      "47\n",
      "6\n",
      "1418\n",
      "6\n",
      "5\n",
      "5\n"
     ]
    }
   ],
   "source": [
    "print(len(df_1))\n",
    "print(len(df_2))\n",
    "print(len(df_3))\n",
    "print(len(df_4))\n",
    "print(len(df_5))\n",
    "print(len(df_6))\n",
    "print(len(df_7))\n",
    "print(len(df_8))\n",
    "print(len(df_9))"
   ]
  },
  {
   "cell_type": "code",
   "execution_count": 2,
   "id": "4fc458ea",
   "metadata": {},
   "outputs": [
    {
     "data": {
      "text/html": [
       "<div>\n",
       "<style scoped>\n",
       "    .dataframe tbody tr th:only-of-type {\n",
       "        vertical-align: middle;\n",
       "    }\n",
       "\n",
       "    .dataframe tbody tr th {\n",
       "        vertical-align: top;\n",
       "    }\n",
       "\n",
       "    .dataframe thead th {\n",
       "        text-align: right;\n",
       "    }\n",
       "</style>\n",
       "<table border=\"1\" class=\"dataframe\">\n",
       "  <thead>\n",
       "    <tr style=\"text-align: right;\">\n",
       "      <th></th>\n",
       "      <th>source_text</th>\n",
       "      <th>target_text</th>\n",
       "    </tr>\n",
       "  </thead>\n",
       "  <tbody>\n",
       "    <tr>\n",
       "      <th>0</th>\n",
       "      <td>000000000019010316000100000000000000000000001f...</td>\n",
       "      <td>000000000019010316000100000000000000000000001f...</td>\n",
       "    </tr>\n",
       "    <tr>\n",
       "      <th>1</th>\n",
       "      <td>00000000000601030000000b</td>\n",
       "      <td>000000000019010316000100000000000000000000001f...</td>\n",
       "    </tr>\n",
       "    <tr>\n",
       "      <th>2</th>\n",
       "      <td>00000000000601030000000b</td>\n",
       "      <td>000000000019010316000100000000000000000000001f...</td>\n",
       "    </tr>\n",
       "    <tr>\n",
       "      <th>3</th>\n",
       "      <td>000000000019010316000100000000000000000000001e...</td>\n",
       "      <td>000000000019010316000100000000000000000000001f...</td>\n",
       "    </tr>\n",
       "    <tr>\n",
       "      <th>4</th>\n",
       "      <td>00000000000601030000000b</td>\n",
       "      <td>000000000019010316000100000000000000000000001f...</td>\n",
       "    </tr>\n",
       "    <tr>\n",
       "      <th>...</th>\n",
       "      <td>...</td>\n",
       "      <td>...</td>\n",
       "    </tr>\n",
       "    <tr>\n",
       "      <th>29989</th>\n",
       "      <td>000000000006010a00000000</td>\n",
       "      <td>000000000006010500000000</td>\n",
       "    </tr>\n",
       "    <tr>\n",
       "      <th>29990</th>\n",
       "      <td>000000000003018c03</td>\n",
       "      <td>000000000003010715</td>\n",
       "    </tr>\n",
       "    <tr>\n",
       "      <th>29991</th>\n",
       "      <td>000000000006010e00000000</td>\n",
       "      <td>000000000006010800000000</td>\n",
       "    </tr>\n",
       "    <tr>\n",
       "      <th>29992</th>\n",
       "      <td>000000000006013700000000</td>\n",
       "      <td>000000000006012805020000</td>\n",
       "    </tr>\n",
       "    <tr>\n",
       "      <th>29993</th>\n",
       "      <td>000000000006013a00000000</td>\n",
       "      <td>000000000006012a03000100</td>\n",
       "    </tr>\n",
       "  </tbody>\n",
       "</table>\n",
       "<p>29994 rows × 2 columns</p>\n",
       "</div>"
      ],
      "text/plain": [
       "                                             source_text  \\\n",
       "0      000000000019010316000100000000000000000000001f...   \n",
       "1                               00000000000601030000000b   \n",
       "2                               00000000000601030000000b   \n",
       "3      000000000019010316000100000000000000000000001e...   \n",
       "4                               00000000000601030000000b   \n",
       "...                                                  ...   \n",
       "29989                           000000000006010a00000000   \n",
       "29990                                 000000000003018c03   \n",
       "29991                           000000000006010e00000000   \n",
       "29992                           000000000006013700000000   \n",
       "29993                           000000000006013a00000000   \n",
       "\n",
       "                                             target_text  \n",
       "0      000000000019010316000100000000000000000000001f...  \n",
       "1      000000000019010316000100000000000000000000001f...  \n",
       "2      000000000019010316000100000000000000000000001f...  \n",
       "3      000000000019010316000100000000000000000000001f...  \n",
       "4      000000000019010316000100000000000000000000001f...  \n",
       "...                                                  ...  \n",
       "29989                           000000000006010500000000  \n",
       "29990                                 000000000003010715  \n",
       "29991                           000000000006010800000000  \n",
       "29992                           000000000006012805020000  \n",
       "29993                           000000000006012a03000100  \n",
       "\n",
       "[29994 rows x 2 columns]"
      ]
     },
     "execution_count": 2,
     "metadata": {},
     "output_type": "execute_result"
    }
   ],
   "source": [
    "full_dataset"
   ]
  },
  {
   "cell_type": "code",
   "execution_count": 6,
   "id": "4d71b36a",
   "metadata": {},
   "outputs": [],
   "source": [
    "#recent str (big dataset)\n",
    "model.load_model(\"byt5\", \"outputs/simplet5-epoch-4-train-loss-0.0073-val-loss-0.0061\", use_gpu=True)"
   ]
  },
  {
   "cell_type": "code",
   "execution_count": 16,
   "id": "4abcfc32",
   "metadata": {},
   "outputs": [
    {
     "name": "stdout",
     "output_type": "stream",
     "text": [
      "Query is: 000000000006010e00000000\n",
      "Predicted response is: ['000000000019010316000100000000000000000000001e0000000000000000']\n",
      "The hex format is: b'\\x00\\x00\\x00\\x00\\x00\\x19\\x01\\x03\\x16\\x00\\x01\\x00\\x00\\x00\\x00\\x00\\x00\\x00\\x00\\x00\\x00\\x00\\x1e\\x00\\x00\\x00\\x00\\x00\\x00\\x00\\x00'\n",
      "The actual target text is: 000000000006010800000000\n"
     ]
    }
   ],
   "source": [
    "n = 29991\n",
    "packet_sent = full_dataset['source_text'][n] \n",
    "packet_received = model.predict(packet_sent)\n",
    "print(\"Query is:\", packet_sent)\n",
    "print(\"Predicted response is:\",packet_received)\n",
    "print(\"The hex format is:\", bytes.fromhex(packet_received[0]))\n",
    "print(\"The actual target text is:\", full_dataset['target_text'][n])"
   ]
  },
  {
   "cell_type": "code",
   "execution_count": 17,
   "id": "2b1abd83",
   "metadata": {},
   "outputs": [
    {
     "name": "stdout",
     "output_type": "stream",
     "text": [
      "Query is: 000000000019010316000100000000000000000000001e0000000000000000\n",
      "Predicted response is: ['000000000019010316000100000000000000000000001e0000000000000000']\n",
      "The hex format is: b'\\x00\\x00\\x00\\x00\\x00\\x19\\x01\\x03\\x16\\x00\\x01\\x00\\x00\\x00\\x00\\x00\\x00\\x00\\x00\\x00\\x00\\x00\\x1e\\x00\\x00\\x00\\x00\\x00\\x00\\x00\\x00'\n",
      "The actual target text is: 000000000019010316000100000000000000000000001f0000000000000000\n"
     ]
    }
   ],
   "source": [
    "n = 3\n",
    "packet_sent = full_dataset['source_text'][n]\n",
    "packet_received = model.predict(packet_sent)\n",
    "print(\"Query is:\", packet_sent)\n",
    "print(\"Predicted response is:\",packet_received)\n",
    "print(\"The hex format is:\", bytes.fromhex(packet_received[0]))\n",
    "print(\"The actual target text is:\", full_dataset['target_text'][n])"
   ]
  },
  {
   "cell_type": "code",
   "execution_count": 19,
   "id": "f2ab54d2",
   "metadata": {},
   "outputs": [
    {
     "name": "stdout",
     "output_type": "stream",
     "text": [
      "Query is: 00000000000601030000000b\n",
      "Predicted response is: ['000000000019010316000100000000000000000000001e0000000000000000']\n",
      "The hex format is: b'\\x00\\x00\\x00\\x00\\x00\\x19\\x01\\x03\\x16\\x00\\x01\\x00\\x00\\x00\\x00\\x00\\x00\\x00\\x00\\x00\\x00\\x00\\x1e\\x00\\x00\\x00\\x00\\x00\\x00\\x00\\x00'\n",
      "The actual target text is: 000000000019010316000100000000000000000000001f0000000000000000\n"
     ]
    }
   ],
   "source": [
    "n = 4\n",
    "packet_sent = full_dataset['source_text'][n]\n",
    "packet_received = model.predict(packet_sent)\n",
    "print(\"Query is:\", packet_sent)\n",
    "print(\"Predicted response is:\",packet_received)\n",
    "print(\"The hex format is:\", bytes.fromhex(packet_received[0]))\n",
    "print(\"The actual target text is:\", full_dataset['target_text'][n])"
   ]
  },
  {
   "cell_type": "code",
   "execution_count": 24,
   "id": "86cc9901",
   "metadata": {},
   "outputs": [
    {
     "name": "stdout",
     "output_type": "stream",
     "text": [
      "Query is: 085700000006010100000004\n",
      "Predicted response is: ['063f0000000401020109']\n",
      "The hex format is: b'\\x06?\\x00\\x00\\x00\\x04\\x01\\x02\\x01\\t'\n",
      "The actual target text is: 06300000000b0103080000000000000000\n"
     ]
    }
   ],
   "source": [
    "n = 29500\n",
    "packet_sent = full_dataset['source_text'][n]\n",
    "packet_received = model.predict(packet_sent)\n",
    "print(\"Query is:\", packet_sent)\n",
    "print(\"Predicted response is:\",packet_received)\n",
    "print(\"The hex format is:\", bytes.fromhex(packet_received[0]))\n",
    "print(\"The actual target text is:\", full_dataset['target_text'][n])"
   ]
  },
  {
   "cell_type": "code",
   "execution_count": 32,
   "id": "e6a58cef",
   "metadata": {},
   "outputs": [
    {
     "name": "stdout",
     "output_type": "stream",
     "text": [
      "Query is: 00d1000000050103020000\n",
      "Predicted response is: ['00d1000000050103020000']\n",
      "The hex format is: b'\\x00\\xd1\\x00\\x00\\x00\\x05\\x01\\x03\\x02\\x00\\x00'\n",
      "The actual target text is: 00d1000000050103020000\n"
     ]
    }
   ],
   "source": [
    "n = 28507\n",
    "packet_sent = full_dataset['source_text'][n]\n",
    "packet_received = model.predict(packet_sent)\n",
    "print(\"Query is:\", packet_sent)\n",
    "print(\"Predicted response is:\",packet_received)\n",
    "print(\"The hex format is:\", bytes.fromhex(packet_received[0]))\n",
    "print(\"The actual target text is:\", full_dataset['target_text'][n])"
   ]
  },
  {
   "cell_type": "code",
   "execution_count": 33,
   "id": "861feb31",
   "metadata": {},
   "outputs": [
    {
     "name": "stdout",
     "output_type": "stream",
     "text": [
      "Query is: 00d40000000501030241c8\n",
      "Predicted response is: ['00d40000000501030241c8']\n",
      "The hex format is: b'\\x00\\xd4\\x00\\x00\\x00\\x05\\x01\\x03\\x02A\\xc8'\n",
      "The actual target text is: 00d40000000501030241c8\n"
     ]
    }
   ],
   "source": [
    "n = 28510\n",
    "packet_sent = full_dataset['source_text'][n]\n",
    "packet_received = model.predict(packet_sent)\n",
    "print(\"Query is:\", packet_sent)\n",
    "print(\"Predicted response is:\",packet_received)\n",
    "print(\"The hex format is:\", bytes.fromhex(packet_received[0]))\n",
    "print(\"The actual target text is:\", full_dataset['target_text'][n])"
   ]
  },
  {
   "cell_type": "code",
   "execution_count": 34,
   "id": "ae3e4662",
   "metadata": {},
   "outputs": [
    {
     "name": "stdout",
     "output_type": "stream",
     "text": [
      "Query is: 0000000000020a11\n",
      "Predicted response is: ['0000000000060a0800010000']\n",
      "The hex format is: b'\\x00\\x00\\x00\\x00\\x00\\x06\\n\\x08\\x00\\x01\\x00\\x00'\n",
      "The actual target text is: 0000000000060a0800010000\n"
     ]
    }
   ],
   "source": [
    "n = 28555\n",
    "packet_sent = full_dataset['source_text'][n]\n",
    "packet_received = model.predict(packet_sent)\n",
    "print(\"Query is:\", packet_sent)\n",
    "print(\"Predicted response is:\",packet_received)\n",
    "print(\"The hex format is:\", bytes.fromhex(packet_received[0]))\n",
    "print(\"The actual target text is:\", full_dataset['target_text'][n])"
   ]
  },
  {
   "cell_type": "code",
   "execution_count": 37,
   "id": "710b8749",
   "metadata": {},
   "outputs": [
    {
     "name": "stdout",
     "output_type": "stream",
     "text": [
      "Query is: 059400000006010300080004\n",
      "Predicted response is: ['05960000000401020103']\n",
      "The hex format is: b'\\x05\\x96\\x00\\x00\\x00\\x04\\x01\\x02\\x01\\x03'\n",
      "The actual target text is: 05940000000b0103080000000000000000\n"
     ]
    }
   ],
   "source": [
    "n = 28560\n",
    "packet_sent = full_dataset['source_text'][n]\n",
    "packet_received = model.predict(packet_sent)\n",
    "print(\"Query is:\", packet_sent)\n",
    "print(\"Predicted response is:\",packet_received)\n",
    "print(\"The hex format is:\", bytes.fromhex(packet_received[0]))\n",
    "print(\"The actual target text is:\", full_dataset['target_text'][n])"
   ]
  },
  {
   "cell_type": "code",
   "execution_count": 39,
   "id": "3707212e",
   "metadata": {},
   "outputs": [
    {
     "name": "stdout",
     "output_type": "stream",
     "text": [
      "Query is: 0000000000020a11\n",
      "Predicted response is: ['0000000000060a0800010000']\n",
      "The hex format is: b'\\x00\\x00\\x00\\x00\\x00\\x06\\n\\x08\\x00\\x01\\x00\\x00'\n",
      "The actual target text is: 0000000000060a0800010000\n"
     ]
    }
   ],
   "source": [
    "n = 29979\n",
    "packet_sent = full_dataset['source_text'][n]\n",
    "packet_received = model.predict(packet_sent)\n",
    "print(\"Query is:\", packet_sent)\n",
    "print(\"Predicted response is:\",packet_received)\n",
    "print(\"The hex format is:\", bytes.fromhex(packet_received[0]))\n",
    "print(\"The actual target text is:\", full_dataset['target_text'][n])"
   ]
  },
  {
   "cell_type": "code",
   "execution_count": 40,
   "id": "e36ef5b1",
   "metadata": {},
   "outputs": [
    {
     "name": "stdout",
     "output_type": "stream",
     "text": [
      "Query is: 000000000003018c03\n",
      "Predicted response is: ['0000000000401020106']\n"
     ]
    },
    {
     "ename": "ValueError",
     "evalue": "non-hexadecimal number found in fromhex() arg at position 19",
     "output_type": "error",
     "traceback": [
      "\u001b[0;31m---------------------------------------------------------------------------\u001b[0m",
      "\u001b[0;31mValueError\u001b[0m                                Traceback (most recent call last)",
      "Cell \u001b[0;32mIn[40], line 6\u001b[0m\n\u001b[1;32m      4\u001b[0m \u001b[38;5;28mprint\u001b[39m(\u001b[38;5;124m\"\u001b[39m\u001b[38;5;124mQuery is:\u001b[39m\u001b[38;5;124m\"\u001b[39m, packet_sent)\n\u001b[1;32m      5\u001b[0m \u001b[38;5;28mprint\u001b[39m(\u001b[38;5;124m\"\u001b[39m\u001b[38;5;124mPredicted response is:\u001b[39m\u001b[38;5;124m\"\u001b[39m,packet_received)\n\u001b[0;32m----> 6\u001b[0m \u001b[38;5;28mprint\u001b[39m(\u001b[38;5;124m\"\u001b[39m\u001b[38;5;124mThe hex format is:\u001b[39m\u001b[38;5;124m\"\u001b[39m, \u001b[38;5;28;43mbytes\u001b[39;49m\u001b[38;5;241;43m.\u001b[39;49m\u001b[43mfromhex\u001b[49m\u001b[43m(\u001b[49m\u001b[43mpacket_received\u001b[49m\u001b[43m[\u001b[49m\u001b[38;5;241;43m0\u001b[39;49m\u001b[43m]\u001b[49m\u001b[43m)\u001b[49m)\n\u001b[1;32m      7\u001b[0m \u001b[38;5;28mprint\u001b[39m(\u001b[38;5;124m\"\u001b[39m\u001b[38;5;124mThe actual target text is:\u001b[39m\u001b[38;5;124m\"\u001b[39m, full_dataset[\u001b[38;5;124m'\u001b[39m\u001b[38;5;124mtarget_text\u001b[39m\u001b[38;5;124m'\u001b[39m][n])\n",
      "\u001b[0;31mValueError\u001b[0m: non-hexadecimal number found in fromhex() arg at position 19"
     ]
    }
   ],
   "source": [
    "n = 29985\n",
    "packet_sent = full_dataset['source_text'][n]\n",
    "packet_received = model.predict(packet_sent)\n",
    "print(\"Query is:\", packet_sent)\n",
    "print(\"Predicted response is:\",packet_received)\n",
    "print(\"The hex format is:\", bytes.fromhex(packet_received[0]))\n",
    "print(\"The actual target text is:\", full_dataset['target_text'][n])"
   ]
  },
  {
   "cell_type": "code",
   "execution_count": 41,
   "id": "73adf47a",
   "metadata": {},
   "outputs": [
    {
     "name": "stdout",
     "output_type": "stream",
     "text": [
      "Query is: 000000000006010a00000000\n",
      "Predicted response is: ['000000000019010316000100000000000000000000001e0000000000000000']\n",
      "The hex format is: b'\\x00\\x00\\x00\\x00\\x00\\x19\\x01\\x03\\x16\\x00\\x01\\x00\\x00\\x00\\x00\\x00\\x00\\x00\\x00\\x00\\x00\\x00\\x1e\\x00\\x00\\x00\\x00\\x00\\x00\\x00\\x00'\n",
      "The actual target text is: 000000000006010500000000\n"
     ]
    }
   ],
   "source": [
    "n = 29989\n",
    "packet_sent = full_dataset['source_text'][n]\n",
    "packet_received = model.predict(packet_sent)\n",
    "print(\"Query is:\", packet_sent)\n",
    "print(\"Predicted response is:\",packet_received)\n",
    "print(\"The hex format is:\", bytes.fromhex(packet_received[0]))\n",
    "print(\"The actual target text is:\", full_dataset['target_text'][n])"
   ]
  },
  {
   "cell_type": "code",
   "execution_count": 45,
   "id": "bf2948ce",
   "metadata": {},
   "outputs": [
    {
     "name": "stdout",
     "output_type": "stream",
     "text": [
      "Query is: 000000000006010e00000000\n",
      "Predicted response is: ['000000000019010316000100000000000000000000001e0000000000000000']\n",
      "The hex format is: b'\\x00\\x00\\x00\\x00\\x00\\x19\\x01\\x03\\x16\\x00\\x01\\x00\\x00\\x00\\x00\\x00\\x00\\x00\\x00\\x00\\x00\\x00\\x1e\\x00\\x00\\x00\\x00\\x00\\x00\\x00\\x00'\n",
      "The actual target text is: 000000000006010800000000\n"
     ]
    }
   ],
   "source": [
    "n = 29991\n",
    "packet_sent = full_dataset['source_text'][n]\n",
    "packet_received = model.predict(packet_sent)\n",
    "print(\"Query is:\", packet_sent)\n",
    "print(\"Predicted response is:\",packet_received)\n",
    "print(\"The hex format is:\", bytes.fromhex(packet_received[0]))\n",
    "print(\"The actual target text is:\", full_dataset['target_text'][n])"
   ]
  },
  {
   "cell_type": "code",
   "execution_count": null,
   "id": "e84c4f5a",
   "metadata": {},
   "outputs": [],
   "source": []
  },
  {
   "cell_type": "code",
   "execution_count": null,
   "id": "119db7c7",
   "metadata": {},
   "outputs": [],
   "source": []
  },
  {
   "cell_type": "code",
   "execution_count": 16,
   "id": "2bb5be6d",
   "metadata": {},
   "outputs": [
    {
     "name": "stdout",
     "output_type": "stream",
     "text": [
      "Query is: 0001000000040a810500\n",
      "Predicted response is: ['0000000000150a111200ff57696e6770617468204c696d69746464']\n",
      "The hex format is b'\\x00\\x00\\x00\\x00\\x00\\x15\\n\\x11\\x12\\x00\\xffWingpath Limitdd'\n",
      "The actual target text is 0000000000150a111200ff57696e6770617468204c696d69746564\n"
     ]
    }
   ],
   "source": [
    "n = 29982\n",
    "packet_sent = full_dataset['source_text'][n] \n",
    "packet_received = model.predict(packet_sent)\n",
    "print(\"Query is:\", packet_sent)\n",
    "print(\"Predicted response is:\",packet_received)\n",
    "print(\"The hex format is\", bytes.fromhex(packet_received[0]))\n",
    "print(\"The actual target text is\", full_dataset['target_text'][n])"
   ]
  },
  {
   "cell_type": "code",
   "execution_count": 17,
   "id": "2b047544",
   "metadata": {},
   "outputs": [
    {
     "name": "stdout",
     "output_type": "stream",
     "text": [
      "Predicted packet response is: ['000000000019010316000100000000000000000000001e0000000000000000']\n"
     ]
    }
   ],
   "source": [
    "#with context on the packet\n",
    "import torch\n",
    "from transformers import ByT5Tokenizer\n",
    "tokenizer = ByT5Tokenizer.from_pretrained(\"google/byt5-small\")\n",
    "\n",
    "context = \"\"\"Query: 0001000000040a010100  Response:0000000000060a08000a0000 \"\"\"\n",
    "question = \"0001000000040a810500\"\n",
    "\n",
    "inputs = model.tokenizer([context],[question], return_tensors=\"pt\")\n",
    "output = tokenizer.decode(inputs['input_ids'][0])\n",
    "answer = model.predict(output)\n",
    "\n",
    "print(\"Predicted packet response is:\", answer)"
   ]
  },
  {
   "cell_type": "code",
   "execution_count": null,
   "id": "1c6eba4e",
   "metadata": {},
   "outputs": [],
   "source": []
  }
 ],
 "metadata": {
  "kernelspec": {
   "display_name": "Python 3 (ipykernel)",
   "language": "python",
   "name": "python3"
  },
  "language_info": {
   "codemirror_mode": {
    "name": "ipython",
    "version": 3
   },
   "file_extension": ".py",
   "mimetype": "text/x-python",
   "name": "python",
   "nbconvert_exporter": "python",
   "pygments_lexer": "ipython3",
   "version": "3.10.12"
  }
 },
 "nbformat": 4,
 "nbformat_minor": 5
}
