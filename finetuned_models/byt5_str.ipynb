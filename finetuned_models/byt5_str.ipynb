{
 "cells": [
  {
   "cell_type": "code",
   "execution_count": 4,
   "id": "8702d0c0",
   "metadata": {
    "ExecuteTime": {
     "end_time": "2023-08-04T13:37:58.698072Z",
     "start_time": "2023-08-04T13:37:53.228307Z"
    }
   },
   "outputs": [],
   "source": [
    "from simplet5 import SimpleT5\n",
    "model = SimpleT5()\n",
    "model.from_pretrained(\"byt5\",\"google/byt5-small\")\n",
    "\n",
    "import pandas as pd\n",
    "\n",
    "dataset_folder = \"../parsed_datasets/str/\"\n",
    "\n",
    "df_1 = pd.read_csv(f\"{dataset_folder}/df_out_0_5h.csv\")\n",
    "df_2 = pd.read_csv(f\"{dataset_folder}/df_out_1h.csv\")\n",
    "df_3 = pd.read_csv(f\"{dataset_folder}/df_out_6h.csv\")\n",
    "df_4 = pd.read_csv(f\"{dataset_folder}/df_out_modbus.csv\")\n",
    "df_5 = pd.read_csv(f\"{dataset_folder}/df_out_modbus_test_part1.csv\")\n",
    "df_6 = pd.read_csv(f\"{dataset_folder}/df_out_modbus_polling6RTU.csv\")\n",
    "df_7 = pd.read_csv(f\"{dataset_folder}/df_out_modbus_test_part1_2.csv\")\n",
    "df_8 = pd.read_csv(f\"{dataset_folder}/df_out_modbus_test_part2.csv\")\n",
    "df_9 = pd.read_csv(f\"{dataset_folder}/df_out_modbus_test_part2_2.csv\")\n",
    "\n",
    "full_dataset = pd.concat([df_1.set_index('Unnamed: 0'), df_2.set_index('Unnamed: 0'),df_3.set_index('Unnamed: 0'),df_4.set_index('Unnamed: 0'), df_5.set_index('Unnamed: 0'),df_6.set_index('Unnamed: 0'), df_7.set_index('Unnamed: 0'),df_8.set_index('Unnamed: 0'), df_9.set_index('Unnamed: 0')], axis = 0)\n",
    "full_dataset.reset_index(level=None, drop=True, inplace=True) #reorder the index values\n",
    "\n",
    "full_dataset = full_dataset[['source_text', 'target_text']]\n",
    "\n",
    "from sklearn.model_selection import train_test_split\n",
    "train_df, test_df = train_test_split(full_dataset, test_size=0.1)"
   ]
  },
  {
   "cell_type": "code",
   "execution_count": 5,
   "id": "be2b1df8",
   "metadata": {
    "ExecuteTime": {
     "end_time": "2023-08-04T13:37:58.707730Z",
     "start_time": "2023-08-04T13:37:58.702499Z"
    }
   },
   "outputs": [
    {
     "name": "stdout",
     "output_type": "stream",
     "text": [
      "1972\n",
      "3858\n",
      "22677\n",
      "47\n",
      "6\n",
      "1418\n",
      "6\n",
      "5\n",
      "5\n"
     ]
    }
   ],
   "source": [
    "print(len(df_1))\n",
    "print(len(df_2))\n",
    "print(len(df_3))\n",
    "print(len(df_4))\n",
    "print(len(df_5))\n",
    "print(len(df_6))\n",
    "print(len(df_7))\n",
    "print(len(df_8))\n",
    "print(len(df_9))"
   ]
  },
  {
   "cell_type": "code",
   "execution_count": 6,
   "id": "4fc458ea",
   "metadata": {
    "ExecuteTime": {
     "end_time": "2023-08-04T13:37:58.746045Z",
     "start_time": "2023-08-04T13:37:58.711632Z"
    }
   },
   "outputs": [
    {
     "data": {
      "text/plain": "                                             source_text  \\\n0      000000000019010316000100000000000000000000001f...   \n1                               00000000000601030000000b   \n2                               00000000000601030000000b   \n3      000000000019010316000100000000000000000000001e...   \n4                               00000000000601030000000b   \n...                                                  ...   \n29989                           000000000006010a00000000   \n29990                                 000000000003018c03   \n29991                           000000000006010e00000000   \n29992                           000000000006013700000000   \n29993                           000000000006013a00000000   \n\n                                             target_text  \n0      000000000019010316000100000000000000000000001f...  \n1      000000000019010316000100000000000000000000001f...  \n2      000000000019010316000100000000000000000000001f...  \n3      000000000019010316000100000000000000000000001f...  \n4      000000000019010316000100000000000000000000001f...  \n...                                                  ...  \n29989                           000000000006010500000000  \n29990                                 000000000003010715  \n29991                           000000000006010800000000  \n29992                           000000000006012805020000  \n29993                           000000000006012a03000100  \n\n[29994 rows x 2 columns]",
      "text/html": "<div>\n<style scoped>\n    .dataframe tbody tr th:only-of-type {\n        vertical-align: middle;\n    }\n\n    .dataframe tbody tr th {\n        vertical-align: top;\n    }\n\n    .dataframe thead th {\n        text-align: right;\n    }\n</style>\n<table border=\"1\" class=\"dataframe\">\n  <thead>\n    <tr style=\"text-align: right;\">\n      <th></th>\n      <th>source_text</th>\n      <th>target_text</th>\n    </tr>\n  </thead>\n  <tbody>\n    <tr>\n      <th>0</th>\n      <td>000000000019010316000100000000000000000000001f...</td>\n      <td>000000000019010316000100000000000000000000001f...</td>\n    </tr>\n    <tr>\n      <th>1</th>\n      <td>00000000000601030000000b</td>\n      <td>000000000019010316000100000000000000000000001f...</td>\n    </tr>\n    <tr>\n      <th>2</th>\n      <td>00000000000601030000000b</td>\n      <td>000000000019010316000100000000000000000000001f...</td>\n    </tr>\n    <tr>\n      <th>3</th>\n      <td>000000000019010316000100000000000000000000001e...</td>\n      <td>000000000019010316000100000000000000000000001f...</td>\n    </tr>\n    <tr>\n      <th>4</th>\n      <td>00000000000601030000000b</td>\n      <td>000000000019010316000100000000000000000000001f...</td>\n    </tr>\n    <tr>\n      <th>...</th>\n      <td>...</td>\n      <td>...</td>\n    </tr>\n    <tr>\n      <th>29989</th>\n      <td>000000000006010a00000000</td>\n      <td>000000000006010500000000</td>\n    </tr>\n    <tr>\n      <th>29990</th>\n      <td>000000000003018c03</td>\n      <td>000000000003010715</td>\n    </tr>\n    <tr>\n      <th>29991</th>\n      <td>000000000006010e00000000</td>\n      <td>000000000006010800000000</td>\n    </tr>\n    <tr>\n      <th>29992</th>\n      <td>000000000006013700000000</td>\n      <td>000000000006012805020000</td>\n    </tr>\n    <tr>\n      <th>29993</th>\n      <td>000000000006013a00000000</td>\n      <td>000000000006012a03000100</td>\n    </tr>\n  </tbody>\n</table>\n<p>29994 rows × 2 columns</p>\n</div>"
     },
     "execution_count": 6,
     "metadata": {},
     "output_type": "execute_result"
    }
   ],
   "source": [
    "full_dataset"
   ]
  },
  {
   "cell_type": "code",
   "execution_count": 7,
   "id": "4d71b36a",
   "metadata": {
    "ExecuteTime": {
     "end_time": "2023-08-04T13:37:59.831879Z",
     "start_time": "2023-08-04T13:37:58.724189Z"
    }
   },
   "outputs": [
    {
     "name": "stderr",
     "output_type": "stream",
     "text": [
      "401 Client Error: Unauthorized for url: https://huggingface.co/outputs/simplet5-epoch-4-train-loss-0.0073-val-loss-0.0061/resolve/main/config.json\n"
     ]
    },
    {
     "ename": "OSError",
     "evalue": "We couldn't connect to 'https://huggingface.co/' to load this model and it looks like outputs/simplet5-epoch-4-train-loss-0.0073-val-loss-0.0061 is not the path to a directory conaining a config.json file.\nCheckout your internet connection or see how to run the library in offline mode at 'https://huggingface.co/docs/transformers/installation#offline-mode'.",
     "output_type": "error",
     "traceback": [
      "\u001B[0;31m---------------------------------------------------------------------------\u001B[0m",
      "\u001B[0;31mHTTPError\u001B[0m                                 Traceback (most recent call last)",
      "File \u001B[0;32m~/.pyenv/versions/icspot/lib/python3.10/site-packages/transformers/configuration_utils.py:585\u001B[0m, in \u001B[0;36mPretrainedConfig._get_config_dict\u001B[0;34m(cls, pretrained_model_name_or_path, **kwargs)\u001B[0m\n\u001B[1;32m    583\u001B[0m \u001B[38;5;28;01mtry\u001B[39;00m:\n\u001B[1;32m    584\u001B[0m     \u001B[38;5;66;03m# Load from URL or cache if already cached\u001B[39;00m\n\u001B[0;32m--> 585\u001B[0m     resolved_config_file \u001B[38;5;241m=\u001B[39m \u001B[43mcached_path\u001B[49m\u001B[43m(\u001B[49m\n\u001B[1;32m    586\u001B[0m \u001B[43m        \u001B[49m\u001B[43mconfig_file\u001B[49m\u001B[43m,\u001B[49m\n\u001B[1;32m    587\u001B[0m \u001B[43m        \u001B[49m\u001B[43mcache_dir\u001B[49m\u001B[38;5;241;43m=\u001B[39;49m\u001B[43mcache_dir\u001B[49m\u001B[43m,\u001B[49m\n\u001B[1;32m    588\u001B[0m \u001B[43m        \u001B[49m\u001B[43mforce_download\u001B[49m\u001B[38;5;241;43m=\u001B[39;49m\u001B[43mforce_download\u001B[49m\u001B[43m,\u001B[49m\n\u001B[1;32m    589\u001B[0m \u001B[43m        \u001B[49m\u001B[43mproxies\u001B[49m\u001B[38;5;241;43m=\u001B[39;49m\u001B[43mproxies\u001B[49m\u001B[43m,\u001B[49m\n\u001B[1;32m    590\u001B[0m \u001B[43m        \u001B[49m\u001B[43mresume_download\u001B[49m\u001B[38;5;241;43m=\u001B[39;49m\u001B[43mresume_download\u001B[49m\u001B[43m,\u001B[49m\n\u001B[1;32m    591\u001B[0m \u001B[43m        \u001B[49m\u001B[43mlocal_files_only\u001B[49m\u001B[38;5;241;43m=\u001B[39;49m\u001B[43mlocal_files_only\u001B[49m\u001B[43m,\u001B[49m\n\u001B[1;32m    592\u001B[0m \u001B[43m        \u001B[49m\u001B[43muse_auth_token\u001B[49m\u001B[38;5;241;43m=\u001B[39;49m\u001B[43muse_auth_token\u001B[49m\u001B[43m,\u001B[49m\n\u001B[1;32m    593\u001B[0m \u001B[43m        \u001B[49m\u001B[43muser_agent\u001B[49m\u001B[38;5;241;43m=\u001B[39;49m\u001B[43muser_agent\u001B[49m\u001B[43m,\u001B[49m\n\u001B[1;32m    594\u001B[0m \u001B[43m    \u001B[49m\u001B[43m)\u001B[49m\n\u001B[1;32m    596\u001B[0m \u001B[38;5;28;01mexcept\u001B[39;00m RepositoryNotFoundError \u001B[38;5;28;01mas\u001B[39;00m err:\n",
      "File \u001B[0;32m~/.pyenv/versions/icspot/lib/python3.10/site-packages/transformers/file_utils.py:1846\u001B[0m, in \u001B[0;36mcached_path\u001B[0;34m(url_or_filename, cache_dir, force_download, proxies, resume_download, user_agent, extract_compressed_file, force_extract, use_auth_token, local_files_only)\u001B[0m\n\u001B[1;32m   1844\u001B[0m \u001B[38;5;28;01mif\u001B[39;00m is_remote_url(url_or_filename):\n\u001B[1;32m   1845\u001B[0m     \u001B[38;5;66;03m# URL, so get it from the cache (downloading if necessary)\u001B[39;00m\n\u001B[0;32m-> 1846\u001B[0m     output_path \u001B[38;5;241m=\u001B[39m \u001B[43mget_from_cache\u001B[49m\u001B[43m(\u001B[49m\n\u001B[1;32m   1847\u001B[0m \u001B[43m        \u001B[49m\u001B[43murl_or_filename\u001B[49m\u001B[43m,\u001B[49m\n\u001B[1;32m   1848\u001B[0m \u001B[43m        \u001B[49m\u001B[43mcache_dir\u001B[49m\u001B[38;5;241;43m=\u001B[39;49m\u001B[43mcache_dir\u001B[49m\u001B[43m,\u001B[49m\n\u001B[1;32m   1849\u001B[0m \u001B[43m        \u001B[49m\u001B[43mforce_download\u001B[49m\u001B[38;5;241;43m=\u001B[39;49m\u001B[43mforce_download\u001B[49m\u001B[43m,\u001B[49m\n\u001B[1;32m   1850\u001B[0m \u001B[43m        \u001B[49m\u001B[43mproxies\u001B[49m\u001B[38;5;241;43m=\u001B[39;49m\u001B[43mproxies\u001B[49m\u001B[43m,\u001B[49m\n\u001B[1;32m   1851\u001B[0m \u001B[43m        \u001B[49m\u001B[43mresume_download\u001B[49m\u001B[38;5;241;43m=\u001B[39;49m\u001B[43mresume_download\u001B[49m\u001B[43m,\u001B[49m\n\u001B[1;32m   1852\u001B[0m \u001B[43m        \u001B[49m\u001B[43muser_agent\u001B[49m\u001B[38;5;241;43m=\u001B[39;49m\u001B[43muser_agent\u001B[49m\u001B[43m,\u001B[49m\n\u001B[1;32m   1853\u001B[0m \u001B[43m        \u001B[49m\u001B[43muse_auth_token\u001B[49m\u001B[38;5;241;43m=\u001B[39;49m\u001B[43muse_auth_token\u001B[49m\u001B[43m,\u001B[49m\n\u001B[1;32m   1854\u001B[0m \u001B[43m        \u001B[49m\u001B[43mlocal_files_only\u001B[49m\u001B[38;5;241;43m=\u001B[39;49m\u001B[43mlocal_files_only\u001B[49m\u001B[43m,\u001B[49m\n\u001B[1;32m   1855\u001B[0m \u001B[43m    \u001B[49m\u001B[43m)\u001B[49m\n\u001B[1;32m   1856\u001B[0m \u001B[38;5;28;01melif\u001B[39;00m os\u001B[38;5;241m.\u001B[39mpath\u001B[38;5;241m.\u001B[39mexists(url_or_filename):\n\u001B[1;32m   1857\u001B[0m     \u001B[38;5;66;03m# File, and it exists.\u001B[39;00m\n",
      "File \u001B[0;32m~/.pyenv/versions/icspot/lib/python3.10/site-packages/transformers/file_utils.py:2050\u001B[0m, in \u001B[0;36mget_from_cache\u001B[0;34m(url, cache_dir, force_download, proxies, etag_timeout, resume_download, user_agent, use_auth_token, local_files_only)\u001B[0m\n\u001B[1;32m   2049\u001B[0m r \u001B[38;5;241m=\u001B[39m requests\u001B[38;5;241m.\u001B[39mhead(url, headers\u001B[38;5;241m=\u001B[39mheaders, allow_redirects\u001B[38;5;241m=\u001B[39m\u001B[38;5;28;01mFalse\u001B[39;00m, proxies\u001B[38;5;241m=\u001B[39mproxies, timeout\u001B[38;5;241m=\u001B[39metag_timeout)\n\u001B[0;32m-> 2050\u001B[0m \u001B[43m_raise_for_status\u001B[49m\u001B[43m(\u001B[49m\u001B[43mr\u001B[49m\u001B[43m)\u001B[49m\n\u001B[1;32m   2051\u001B[0m etag \u001B[38;5;241m=\u001B[39m r\u001B[38;5;241m.\u001B[39mheaders\u001B[38;5;241m.\u001B[39mget(\u001B[38;5;124m\"\u001B[39m\u001B[38;5;124mX-Linked-Etag\u001B[39m\u001B[38;5;124m\"\u001B[39m) \u001B[38;5;129;01mor\u001B[39;00m r\u001B[38;5;241m.\u001B[39mheaders\u001B[38;5;241m.\u001B[39mget(\u001B[38;5;124m\"\u001B[39m\u001B[38;5;124mETag\u001B[39m\u001B[38;5;124m\"\u001B[39m)\n",
      "File \u001B[0;32m~/.pyenv/versions/icspot/lib/python3.10/site-packages/transformers/file_utils.py:1977\u001B[0m, in \u001B[0;36m_raise_for_status\u001B[0;34m(request)\u001B[0m\n\u001B[1;32m   1975\u001B[0m         \u001B[38;5;28;01mraise\u001B[39;00m RevisionNotFoundError((\u001B[38;5;124mf\u001B[39m\u001B[38;5;124m\"\u001B[39m\u001B[38;5;124m404 Client Error: Revision Not Found for url: \u001B[39m\u001B[38;5;132;01m{\u001B[39;00mrequest\u001B[38;5;241m.\u001B[39murl\u001B[38;5;132;01m}\u001B[39;00m\u001B[38;5;124m\"\u001B[39m))\n\u001B[0;32m-> 1977\u001B[0m \u001B[43mrequest\u001B[49m\u001B[38;5;241;43m.\u001B[39;49m\u001B[43mraise_for_status\u001B[49m\u001B[43m(\u001B[49m\u001B[43m)\u001B[49m\n",
      "File \u001B[0;32m~/.pyenv/versions/icspot/lib/python3.10/site-packages/requests/models.py:1021\u001B[0m, in \u001B[0;36mResponse.raise_for_status\u001B[0;34m(self)\u001B[0m\n\u001B[1;32m   1020\u001B[0m \u001B[38;5;28;01mif\u001B[39;00m http_error_msg:\n\u001B[0;32m-> 1021\u001B[0m     \u001B[38;5;28;01mraise\u001B[39;00m HTTPError(http_error_msg, response\u001B[38;5;241m=\u001B[39m\u001B[38;5;28mself\u001B[39m)\n",
      "\u001B[0;31mHTTPError\u001B[0m: 401 Client Error: Unauthorized for url: https://huggingface.co/outputs/simplet5-epoch-4-train-loss-0.0073-val-loss-0.0061/resolve/main/config.json",
      "\nDuring handling of the above exception, another exception occurred:\n",
      "\u001B[0;31mOSError\u001B[0m                                   Traceback (most recent call last)",
      "Cell \u001B[0;32mIn[7], line 2\u001B[0m\n\u001B[1;32m      1\u001B[0m \u001B[38;5;66;03m#recent str (big dataset)\u001B[39;00m\n\u001B[0;32m----> 2\u001B[0m \u001B[43mmodel\u001B[49m\u001B[38;5;241;43m.\u001B[39;49m\u001B[43mload_model\u001B[49m\u001B[43m(\u001B[49m\u001B[38;5;124;43m\"\u001B[39;49m\u001B[38;5;124;43mbyt5\u001B[39;49m\u001B[38;5;124;43m\"\u001B[39;49m\u001B[43m,\u001B[49m\u001B[43m \u001B[49m\u001B[38;5;124;43m\"\u001B[39;49m\u001B[38;5;124;43moutputs/simplet5-epoch-4-train-loss-0.0073-val-loss-0.0061\u001B[39;49m\u001B[38;5;124;43m\"\u001B[39;49m\u001B[43m,\u001B[49m\u001B[43m \u001B[49m\u001B[43muse_gpu\u001B[49m\u001B[38;5;241;43m=\u001B[39;49m\u001B[38;5;28;43;01mTrue\u001B[39;49;00m\u001B[43m)\u001B[49m\n",
      "File \u001B[0;32m~/.pyenv/versions/icspot/lib/python3.10/site-packages/simplet5/simplet5.py:414\u001B[0m, in \u001B[0;36mSimpleT5.load_model\u001B[0;34m(self, model_type, model_dir, use_gpu)\u001B[0m\n\u001B[1;32m    412\u001B[0m     \u001B[38;5;28mself\u001B[39m\u001B[38;5;241m.\u001B[39mtokenizer \u001B[38;5;241m=\u001B[39m MT5Tokenizer\u001B[38;5;241m.\u001B[39mfrom_pretrained(\u001B[38;5;124mf\u001B[39m\u001B[38;5;124m\"\u001B[39m\u001B[38;5;132;01m{\u001B[39;00mmodel_dir\u001B[38;5;132;01m}\u001B[39;00m\u001B[38;5;124m\"\u001B[39m)\n\u001B[1;32m    413\u001B[0m \u001B[38;5;28;01melif\u001B[39;00m model_type \u001B[38;5;241m==\u001B[39m \u001B[38;5;124m\"\u001B[39m\u001B[38;5;124mbyt5\u001B[39m\u001B[38;5;124m\"\u001B[39m:\n\u001B[0;32m--> 414\u001B[0m     \u001B[38;5;28mself\u001B[39m\u001B[38;5;241m.\u001B[39mmodel \u001B[38;5;241m=\u001B[39m \u001B[43mT5ForConditionalGeneration\u001B[49m\u001B[38;5;241;43m.\u001B[39;49m\u001B[43mfrom_pretrained\u001B[49m\u001B[43m(\u001B[49m\u001B[38;5;124;43mf\u001B[39;49m\u001B[38;5;124;43m\"\u001B[39;49m\u001B[38;5;132;43;01m{\u001B[39;49;00m\u001B[43mmodel_dir\u001B[49m\u001B[38;5;132;43;01m}\u001B[39;49;00m\u001B[38;5;124;43m\"\u001B[39;49m\u001B[43m)\u001B[49m\n\u001B[1;32m    415\u001B[0m     \u001B[38;5;28mself\u001B[39m\u001B[38;5;241m.\u001B[39mtokenizer \u001B[38;5;241m=\u001B[39m ByT5Tokenizer\u001B[38;5;241m.\u001B[39mfrom_pretrained(\u001B[38;5;124mf\u001B[39m\u001B[38;5;124m\"\u001B[39m\u001B[38;5;132;01m{\u001B[39;00mmodel_dir\u001B[38;5;132;01m}\u001B[39;00m\u001B[38;5;124m\"\u001B[39m)\n\u001B[1;32m    417\u001B[0m \u001B[38;5;28;01mif\u001B[39;00m use_gpu:\n",
      "File \u001B[0;32m~/.pyenv/versions/icspot/lib/python3.10/site-packages/transformers/modeling_utils.py:1268\u001B[0m, in \u001B[0;36mPreTrainedModel.from_pretrained\u001B[0;34m(cls, pretrained_model_name_or_path, *model_args, **kwargs)\u001B[0m\n\u001B[1;32m   1266\u001B[0m \u001B[38;5;28;01mif\u001B[39;00m \u001B[38;5;129;01mnot\u001B[39;00m \u001B[38;5;28misinstance\u001B[39m(config, PretrainedConfig):\n\u001B[1;32m   1267\u001B[0m     config_path \u001B[38;5;241m=\u001B[39m config \u001B[38;5;28;01mif\u001B[39;00m config \u001B[38;5;129;01mis\u001B[39;00m \u001B[38;5;129;01mnot\u001B[39;00m \u001B[38;5;28;01mNone\u001B[39;00m \u001B[38;5;28;01melse\u001B[39;00m pretrained_model_name_or_path\n\u001B[0;32m-> 1268\u001B[0m     config, model_kwargs \u001B[38;5;241m=\u001B[39m \u001B[38;5;28;43mcls\u001B[39;49m\u001B[38;5;241;43m.\u001B[39;49m\u001B[43mconfig_class\u001B[49m\u001B[38;5;241;43m.\u001B[39;49m\u001B[43mfrom_pretrained\u001B[49m\u001B[43m(\u001B[49m\n\u001B[1;32m   1269\u001B[0m \u001B[43m        \u001B[49m\u001B[43mconfig_path\u001B[49m\u001B[43m,\u001B[49m\n\u001B[1;32m   1270\u001B[0m \u001B[43m        \u001B[49m\u001B[43mcache_dir\u001B[49m\u001B[38;5;241;43m=\u001B[39;49m\u001B[43mcache_dir\u001B[49m\u001B[43m,\u001B[49m\n\u001B[1;32m   1271\u001B[0m \u001B[43m        \u001B[49m\u001B[43mreturn_unused_kwargs\u001B[49m\u001B[38;5;241;43m=\u001B[39;49m\u001B[38;5;28;43;01mTrue\u001B[39;49;00m\u001B[43m,\u001B[49m\n\u001B[1;32m   1272\u001B[0m \u001B[43m        \u001B[49m\u001B[43mforce_download\u001B[49m\u001B[38;5;241;43m=\u001B[39;49m\u001B[43mforce_download\u001B[49m\u001B[43m,\u001B[49m\n\u001B[1;32m   1273\u001B[0m \u001B[43m        \u001B[49m\u001B[43mresume_download\u001B[49m\u001B[38;5;241;43m=\u001B[39;49m\u001B[43mresume_download\u001B[49m\u001B[43m,\u001B[49m\n\u001B[1;32m   1274\u001B[0m \u001B[43m        \u001B[49m\u001B[43mproxies\u001B[49m\u001B[38;5;241;43m=\u001B[39;49m\u001B[43mproxies\u001B[49m\u001B[43m,\u001B[49m\n\u001B[1;32m   1275\u001B[0m \u001B[43m        \u001B[49m\u001B[43mlocal_files_only\u001B[49m\u001B[38;5;241;43m=\u001B[39;49m\u001B[43mlocal_files_only\u001B[49m\u001B[43m,\u001B[49m\n\u001B[1;32m   1276\u001B[0m \u001B[43m        \u001B[49m\u001B[43muse_auth_token\u001B[49m\u001B[38;5;241;43m=\u001B[39;49m\u001B[43muse_auth_token\u001B[49m\u001B[43m,\u001B[49m\n\u001B[1;32m   1277\u001B[0m \u001B[43m        \u001B[49m\u001B[43mrevision\u001B[49m\u001B[38;5;241;43m=\u001B[39;49m\u001B[43mrevision\u001B[49m\u001B[43m,\u001B[49m\n\u001B[1;32m   1278\u001B[0m \u001B[43m        \u001B[49m\u001B[43m_from_auto\u001B[49m\u001B[38;5;241;43m=\u001B[39;49m\u001B[43mfrom_auto_class\u001B[49m\u001B[43m,\u001B[49m\n\u001B[1;32m   1279\u001B[0m \u001B[43m        \u001B[49m\u001B[43m_from_pipeline\u001B[49m\u001B[38;5;241;43m=\u001B[39;49m\u001B[43mfrom_pipeline\u001B[49m\u001B[43m,\u001B[49m\n\u001B[1;32m   1280\u001B[0m \u001B[43m        \u001B[49m\u001B[38;5;241;43m*\u001B[39;49m\u001B[38;5;241;43m*\u001B[39;49m\u001B[43mkwargs\u001B[49m\u001B[43m,\u001B[49m\n\u001B[1;32m   1281\u001B[0m \u001B[43m    \u001B[49m\u001B[43m)\u001B[49m\n\u001B[1;32m   1282\u001B[0m \u001B[38;5;28;01melse\u001B[39;00m:\n\u001B[1;32m   1283\u001B[0m     model_kwargs \u001B[38;5;241m=\u001B[39m kwargs\n",
      "File \u001B[0;32m~/.pyenv/versions/icspot/lib/python3.10/site-packages/transformers/configuration_utils.py:510\u001B[0m, in \u001B[0;36mPretrainedConfig.from_pretrained\u001B[0;34m(cls, pretrained_model_name_or_path, **kwargs)\u001B[0m\n\u001B[1;32m    436\u001B[0m \u001B[38;5;129m@classmethod\u001B[39m\n\u001B[1;32m    437\u001B[0m \u001B[38;5;28;01mdef\u001B[39;00m \u001B[38;5;21mfrom_pretrained\u001B[39m(\u001B[38;5;28mcls\u001B[39m, pretrained_model_name_or_path: Union[\u001B[38;5;28mstr\u001B[39m, os\u001B[38;5;241m.\u001B[39mPathLike], \u001B[38;5;241m*\u001B[39m\u001B[38;5;241m*\u001B[39mkwargs) \u001B[38;5;241m-\u001B[39m\u001B[38;5;241m>\u001B[39m \u001B[38;5;124m\"\u001B[39m\u001B[38;5;124mPretrainedConfig\u001B[39m\u001B[38;5;124m\"\u001B[39m:\n\u001B[1;32m    438\u001B[0m \u001B[38;5;250m    \u001B[39m\u001B[38;5;124mr\u001B[39m\u001B[38;5;124;03m\"\"\"\u001B[39;00m\n\u001B[1;32m    439\u001B[0m \u001B[38;5;124;03m    Instantiate a [`PretrainedConfig`] (or a derived class) from a pretrained model configuration.\u001B[39;00m\n\u001B[1;32m    440\u001B[0m \n\u001B[0;32m   (...)\u001B[0m\n\u001B[1;32m    508\u001B[0m \u001B[38;5;124;03m    assert unused_kwargs == {\"foo\": False}\u001B[39;00m\n\u001B[1;32m    509\u001B[0m \u001B[38;5;124;03m    ```\"\"\"\u001B[39;00m\n\u001B[0;32m--> 510\u001B[0m     config_dict, kwargs \u001B[38;5;241m=\u001B[39m \u001B[38;5;28;43mcls\u001B[39;49m\u001B[38;5;241;43m.\u001B[39;49m\u001B[43mget_config_dict\u001B[49m\u001B[43m(\u001B[49m\u001B[43mpretrained_model_name_or_path\u001B[49m\u001B[43m,\u001B[49m\u001B[43m \u001B[49m\u001B[38;5;241;43m*\u001B[39;49m\u001B[38;5;241;43m*\u001B[39;49m\u001B[43mkwargs\u001B[49m\u001B[43m)\u001B[49m\n\u001B[1;32m    511\u001B[0m     \u001B[38;5;28;01mif\u001B[39;00m \u001B[38;5;124m\"\u001B[39m\u001B[38;5;124mmodel_type\u001B[39m\u001B[38;5;124m\"\u001B[39m \u001B[38;5;129;01min\u001B[39;00m config_dict \u001B[38;5;129;01mand\u001B[39;00m \u001B[38;5;28mhasattr\u001B[39m(\u001B[38;5;28mcls\u001B[39m, \u001B[38;5;124m\"\u001B[39m\u001B[38;5;124mmodel_type\u001B[39m\u001B[38;5;124m\"\u001B[39m) \u001B[38;5;129;01mand\u001B[39;00m config_dict[\u001B[38;5;124m\"\u001B[39m\u001B[38;5;124mmodel_type\u001B[39m\u001B[38;5;124m\"\u001B[39m] \u001B[38;5;241m!=\u001B[39m \u001B[38;5;28mcls\u001B[39m\u001B[38;5;241m.\u001B[39mmodel_type:\n\u001B[1;32m    512\u001B[0m         logger\u001B[38;5;241m.\u001B[39mwarn(\n\u001B[1;32m    513\u001B[0m             \u001B[38;5;124mf\u001B[39m\u001B[38;5;124m\"\u001B[39m\u001B[38;5;124mYou are using a model of type \u001B[39m\u001B[38;5;132;01m{\u001B[39;00mconfig_dict[\u001B[38;5;124m'\u001B[39m\u001B[38;5;124mmodel_type\u001B[39m\u001B[38;5;124m'\u001B[39m]\u001B[38;5;132;01m}\u001B[39;00m\u001B[38;5;124m to instantiate a model of type \u001B[39m\u001B[38;5;124m\"\u001B[39m\n\u001B[1;32m    514\u001B[0m             \u001B[38;5;124mf\u001B[39m\u001B[38;5;124m\"\u001B[39m\u001B[38;5;132;01m{\u001B[39;00m\u001B[38;5;28mcls\u001B[39m\u001B[38;5;241m.\u001B[39mmodel_type\u001B[38;5;132;01m}\u001B[39;00m\u001B[38;5;124m. This is not supported for all configurations of models and can yield errors.\u001B[39m\u001B[38;5;124m\"\u001B[39m\n\u001B[1;32m    515\u001B[0m         )\n",
      "File \u001B[0;32m~/.pyenv/versions/icspot/lib/python3.10/site-packages/transformers/configuration_utils.py:537\u001B[0m, in \u001B[0;36mPretrainedConfig.get_config_dict\u001B[0;34m(cls, pretrained_model_name_or_path, **kwargs)\u001B[0m\n\u001B[1;32m    535\u001B[0m original_kwargs \u001B[38;5;241m=\u001B[39m copy\u001B[38;5;241m.\u001B[39mdeepcopy(kwargs)\n\u001B[1;32m    536\u001B[0m \u001B[38;5;66;03m# Get config dict associated with the base config file\u001B[39;00m\n\u001B[0;32m--> 537\u001B[0m config_dict, kwargs \u001B[38;5;241m=\u001B[39m \u001B[38;5;28;43mcls\u001B[39;49m\u001B[38;5;241;43m.\u001B[39;49m\u001B[43m_get_config_dict\u001B[49m\u001B[43m(\u001B[49m\u001B[43mpretrained_model_name_or_path\u001B[49m\u001B[43m,\u001B[49m\u001B[43m \u001B[49m\u001B[38;5;241;43m*\u001B[39;49m\u001B[38;5;241;43m*\u001B[39;49m\u001B[43mkwargs\u001B[49m\u001B[43m)\u001B[49m\n\u001B[1;32m    539\u001B[0m \u001B[38;5;66;03m# That config file may point us toward another config file to use.\u001B[39;00m\n\u001B[1;32m    540\u001B[0m \u001B[38;5;28;01mif\u001B[39;00m \u001B[38;5;124m\"\u001B[39m\u001B[38;5;124mconfiguration_files\u001B[39m\u001B[38;5;124m\"\u001B[39m \u001B[38;5;129;01min\u001B[39;00m config_dict:\n",
      "File \u001B[0;32m~/.pyenv/versions/icspot/lib/python3.10/site-packages/transformers/configuration_utils.py:618\u001B[0m, in \u001B[0;36mPretrainedConfig._get_config_dict\u001B[0;34m(cls, pretrained_model_name_or_path, **kwargs)\u001B[0m\n\u001B[1;32m    616\u001B[0m \u001B[38;5;28;01mexcept\u001B[39;00m HTTPError \u001B[38;5;28;01mas\u001B[39;00m err:\n\u001B[1;32m    617\u001B[0m     logger\u001B[38;5;241m.\u001B[39merror(err)\n\u001B[0;32m--> 618\u001B[0m     \u001B[38;5;28;01mraise\u001B[39;00m \u001B[38;5;167;01mEnvironmentError\u001B[39;00m(\n\u001B[1;32m    619\u001B[0m         \u001B[38;5;124m\"\u001B[39m\u001B[38;5;124mWe couldn\u001B[39m\u001B[38;5;124m'\u001B[39m\u001B[38;5;124mt connect to \u001B[39m\u001B[38;5;124m'\u001B[39m\u001B[38;5;124mhttps://huggingface.co/\u001B[39m\u001B[38;5;124m'\u001B[39m\u001B[38;5;124m to load this model and it looks like \u001B[39m\u001B[38;5;124m\"\u001B[39m\n\u001B[1;32m    620\u001B[0m         \u001B[38;5;124mf\u001B[39m\u001B[38;5;124m\"\u001B[39m\u001B[38;5;132;01m{\u001B[39;00mpretrained_model_name_or_path\u001B[38;5;132;01m}\u001B[39;00m\u001B[38;5;124m is not the path to a directory conaining a \u001B[39m\u001B[38;5;132;01m{\u001B[39;00mconfiguration_file\u001B[38;5;132;01m}\u001B[39;00m\u001B[38;5;124m \u001B[39m\u001B[38;5;124m\"\u001B[39m\n\u001B[1;32m    621\u001B[0m         \u001B[38;5;124m\"\u001B[39m\u001B[38;5;124mfile.\u001B[39m\u001B[38;5;130;01m\\n\u001B[39;00m\u001B[38;5;124mCheckout your internet connection or see how to run the library in offline mode at \u001B[39m\u001B[38;5;124m\"\u001B[39m\n\u001B[1;32m    622\u001B[0m         \u001B[38;5;124m\"\u001B[39m\u001B[38;5;124m'\u001B[39m\u001B[38;5;124mhttps://huggingface.co/docs/transformers/installation#offline-mode\u001B[39m\u001B[38;5;124m'\u001B[39m\u001B[38;5;124m.\u001B[39m\u001B[38;5;124m\"\u001B[39m\n\u001B[1;32m    623\u001B[0m     )\n\u001B[1;32m    624\u001B[0m \u001B[38;5;28;01mexcept\u001B[39;00m \u001B[38;5;167;01mEnvironmentError\u001B[39;00m \u001B[38;5;28;01mas\u001B[39;00m err:\n\u001B[1;32m    625\u001B[0m     logger\u001B[38;5;241m.\u001B[39merror(err)\n",
      "\u001B[0;31mOSError\u001B[0m: We couldn't connect to 'https://huggingface.co/' to load this model and it looks like outputs/simplet5-epoch-4-train-loss-0.0073-val-loss-0.0061 is not the path to a directory conaining a config.json file.\nCheckout your internet connection or see how to run the library in offline mode at 'https://huggingface.co/docs/transformers/installation#offline-mode'."
     ]
    }
   ],
   "source": [
    "#recent str (big dataset)\n",
    "model.load_model(\"byt5\", \"outputs/simplet5-epoch-4-train-loss-0.0073-val-loss-0.0061\", use_gpu=True)"
   ]
  },
  {
   "cell_type": "code",
   "execution_count": null,
   "id": "4abcfc32",
   "metadata": {},
   "outputs": [],
   "source": [
    "n = 29991\n",
    "packet_sent = full_dataset['source_text'][n] \n",
    "packet_received = model.predict(packet_sent)\n",
    "print(\"Query is:\", packet_sent)\n",
    "print(\"Predicted response is:\",packet_received)\n",
    "print(\"The hex format is:\", bytes.fromhex(packet_received[0]))\n",
    "print(\"The actual target text is:\", full_dataset['target_text'][n])"
   ]
  },
  {
   "cell_type": "code",
   "execution_count": null,
   "id": "2b1abd83",
   "metadata": {},
   "outputs": [],
   "source": [
    "n = 3\n",
    "packet_sent = full_dataset['source_text'][n]\n",
    "packet_received = model.predict(packet_sent)\n",
    "print(\"Query is:\", packet_sent)\n",
    "print(\"Predicted response is:\",packet_received)\n",
    "print(\"The hex format is:\", bytes.fromhex(packet_received[0]))\n",
    "print(\"The actual target text is:\", full_dataset['target_text'][n])"
   ]
  },
  {
   "cell_type": "code",
   "execution_count": null,
   "id": "f2ab54d2",
   "metadata": {},
   "outputs": [],
   "source": [
    "n = 4\n",
    "packet_sent = full_dataset['source_text'][n]\n",
    "packet_received = model.predict(packet_sent)\n",
    "print(\"Query is:\", packet_sent)\n",
    "print(\"Predicted response is:\",packet_received)\n",
    "print(\"The hex format is:\", bytes.fromhex(packet_received[0]))\n",
    "print(\"The actual target text is:\", full_dataset['target_text'][n])"
   ]
  },
  {
   "cell_type": "code",
   "execution_count": null,
   "id": "86cc9901",
   "metadata": {},
   "outputs": [],
   "source": [
    "n = 29500\n",
    "packet_sent = full_dataset['source_text'][n]\n",
    "packet_received = model.predict(packet_sent)\n",
    "print(\"Query is:\", packet_sent)\n",
    "print(\"Predicted response is:\",packet_received)\n",
    "print(\"The hex format is:\", bytes.fromhex(packet_received[0]))\n",
    "print(\"The actual target text is:\", full_dataset['target_text'][n])"
   ]
  },
  {
   "cell_type": "code",
   "execution_count": null,
   "id": "e6a58cef",
   "metadata": {},
   "outputs": [],
   "source": [
    "n = 28507\n",
    "packet_sent = full_dataset['source_text'][n]\n",
    "packet_received = model.predict(packet_sent)\n",
    "print(\"Query is:\", packet_sent)\n",
    "print(\"Predicted response is:\",packet_received)\n",
    "print(\"The hex format is:\", bytes.fromhex(packet_received[0]))\n",
    "print(\"The actual target text is:\", full_dataset['target_text'][n])"
   ]
  },
  {
   "cell_type": "code",
   "execution_count": null,
   "id": "861feb31",
   "metadata": {},
   "outputs": [],
   "source": [
    "n = 28510\n",
    "packet_sent = full_dataset['source_text'][n]\n",
    "packet_received = model.predict(packet_sent)\n",
    "print(\"Query is:\", packet_sent)\n",
    "print(\"Predicted response is:\",packet_received)\n",
    "print(\"The hex format is:\", bytes.fromhex(packet_received[0]))\n",
    "print(\"The actual target text is:\", full_dataset['target_text'][n])"
   ]
  },
  {
   "cell_type": "code",
   "execution_count": null,
   "id": "ae3e4662",
   "metadata": {},
   "outputs": [],
   "source": [
    "n = 28555\n",
    "packet_sent = full_dataset['source_text'][n]\n",
    "packet_received = model.predict(packet_sent)\n",
    "print(\"Query is:\", packet_sent)\n",
    "print(\"Predicted response is:\",packet_received)\n",
    "print(\"The hex format is:\", bytes.fromhex(packet_received[0]))\n",
    "print(\"The actual target text is:\", full_dataset['target_text'][n])"
   ]
  },
  {
   "cell_type": "code",
   "execution_count": null,
   "id": "710b8749",
   "metadata": {},
   "outputs": [],
   "source": [
    "n = 28560\n",
    "packet_sent = full_dataset['source_text'][n]\n",
    "packet_received = model.predict(packet_sent)\n",
    "print(\"Query is:\", packet_sent)\n",
    "print(\"Predicted response is:\",packet_received)\n",
    "print(\"The hex format is:\", bytes.fromhex(packet_received[0]))\n",
    "print(\"The actual target text is:\", full_dataset['target_text'][n])"
   ]
  },
  {
   "cell_type": "code",
   "execution_count": null,
   "id": "3707212e",
   "metadata": {},
   "outputs": [],
   "source": [
    "n = 29979\n",
    "packet_sent = full_dataset['source_text'][n]\n",
    "packet_received = model.predict(packet_sent)\n",
    "print(\"Query is:\", packet_sent)\n",
    "print(\"Predicted response is:\",packet_received)\n",
    "print(\"The hex format is:\", bytes.fromhex(packet_received[0]))\n",
    "print(\"The actual target text is:\", full_dataset['target_text'][n])"
   ]
  },
  {
   "cell_type": "code",
   "execution_count": null,
   "id": "e36ef5b1",
   "metadata": {},
   "outputs": [],
   "source": [
    "n = 29985\n",
    "packet_sent = full_dataset['source_text'][n]\n",
    "packet_received = model.predict(packet_sent)\n",
    "print(\"Query is:\", packet_sent)\n",
    "print(\"Predicted response is:\",packet_received)\n",
    "print(\"The hex format is:\", bytes.fromhex(packet_received[0]))\n",
    "print(\"The actual target text is:\", full_dataset['target_text'][n])"
   ]
  },
  {
   "cell_type": "code",
   "execution_count": null,
   "id": "73adf47a",
   "metadata": {},
   "outputs": [],
   "source": [
    "n = 29989\n",
    "packet_sent = full_dataset['source_text'][n]\n",
    "packet_received = model.predict(packet_sent)\n",
    "print(\"Query is:\", packet_sent)\n",
    "print(\"Predicted response is:\",packet_received)\n",
    "print(\"The hex format is:\", bytes.fromhex(packet_received[0]))\n",
    "print(\"The actual target text is:\", full_dataset['target_text'][n])"
   ]
  },
  {
   "cell_type": "code",
   "execution_count": null,
   "id": "bf2948ce",
   "metadata": {},
   "outputs": [],
   "source": [
    "n = 29991\n",
    "packet_sent = full_dataset['source_text'][n]\n",
    "packet_received = model.predict(packet_sent)\n",
    "print(\"Query is:\", packet_sent)\n",
    "print(\"Predicted response is:\",packet_received)\n",
    "print(\"The hex format is:\", bytes.fromhex(packet_received[0]))\n",
    "print(\"The actual target text is:\", full_dataset['target_text'][n])"
   ]
  },
  {
   "cell_type": "code",
   "execution_count": null,
   "id": "e84c4f5a",
   "metadata": {},
   "outputs": [],
   "source": []
  },
  {
   "cell_type": "code",
   "execution_count": null,
   "id": "119db7c7",
   "metadata": {},
   "outputs": [],
   "source": []
  },
  {
   "cell_type": "code",
   "execution_count": null,
   "id": "2bb5be6d",
   "metadata": {},
   "outputs": [],
   "source": [
    "n = 29982\n",
    "packet_sent = full_dataset['source_text'][n] \n",
    "packet_received = model.predict(packet_sent)\n",
    "print(\"Query is:\", packet_sent)\n",
    "print(\"Predicted response is:\",packet_received)\n",
    "print(\"The hex format is\", bytes.fromhex(packet_received[0]))\n",
    "print(\"The actual target text is\", full_dataset['target_text'][n])"
   ]
  },
  {
   "cell_type": "code",
   "execution_count": null,
   "id": "2b047544",
   "metadata": {},
   "outputs": [],
   "source": [
    "#with context on the packet\n",
    "from transformers import ByT5Tokenizer\n",
    "tokenizer = ByT5Tokenizer.from_pretrained(\"google/byt5-small\")\n",
    "\n",
    "context = \"\"\"Query: 0001000000040a010100  Response:0000000000060a08000a0000 \"\"\"\n",
    "question = \"0001000000040a810500\"\n",
    "\n",
    "inputs = model.tokenizer([context],[question], return_tensors=\"pt\")\n",
    "output = tokenizer.decode(inputs['input_ids'][0])\n",
    "answer = model.predict(output)\n",
    "\n",
    "print(\"Predicted packet response is:\", answer)"
   ]
  },
  {
   "cell_type": "code",
   "execution_count": null,
   "id": "1c6eba4e",
   "metadata": {},
   "outputs": [],
   "source": []
  }
 ],
 "metadata": {
  "kernelspec": {
   "display_name": "Python 3 (ipykernel)",
   "language": "python",
   "name": "python3"
  },
  "language_info": {
   "codemirror_mode": {
    "name": "ipython",
    "version": 3
   },
   "file_extension": ".py",
   "mimetype": "text/x-python",
   "name": "python",
   "nbconvert_exporter": "python",
   "pygments_lexer": "ipython3",
   "version": "3.10.12"
  }
 },
 "nbformat": 4,
 "nbformat_minor": 5
}
