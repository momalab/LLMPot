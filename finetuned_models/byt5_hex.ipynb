{
 "cells": [
  {
   "cell_type": "code",
   "execution_count": 11,
   "id": "a7992262",
   "metadata": {},
   "outputs": [],
   "source": [
    "#load model\n",
    "import transformers\n",
    "from simplet5 import SimpleT5\n",
    "model = SimpleT5()\n",
    "model.from_pretrained(\"byt5\",\"google/byt5-small\")\n",
    "\n",
    "#dataframe dataset\n",
    "import pandas as pd\n",
    "import numpy as np\n",
    "\n",
    "df_1 = pd.read_csv(\"df_out_0,5h_hex.csv\") \n",
    "df_2 = pd.read_csv(\"df_out_1h_hex.csv\") \n",
    "df_3 = pd.read_csv(\"df_out_6h_hex.csv\") \n",
    "df_4 = pd.read_csv(\"df_out_modbus_hex.csv\")\n",
    "df_5 = pd.read_csv(\"df_out_modbus_test_part1_hex.csv\") \n",
    "df_6 = pd.read_csv(\"df_out_modbus_polling6RTU_hex.csv\") \n",
    "df_7 = pd.read_csv(\"df_out_modbus_test_part1,1_hex.csv\") \n",
    "df_8 = pd.read_csv(\"df_out_modbus_test_part2_hex.csv\") \n",
    "df_9 = pd.read_csv(\"df_out_modbus_test_part2,2_hex.csv\") \n",
    "\n",
    "full_dataset_hex = pd.concat([df_1.set_index('Unnamed: 0'), df_2.set_index('Unnamed: 0'),df_3.set_index('Unnamed: 0'),df_4.set_index('Unnamed: 0'), df_5.set_index('Unnamed: 0'),df_6.set_index('Unnamed: 0'), df_7.set_index('Unnamed: 0'),df_8.set_index('Unnamed: 0'), df_9.set_index('Unnamed: 0')], axis = 0)\n",
    "full_dataset_hex.reset_index(level=None, drop=True, inplace=True) #reorder the index values\n",
    "\n",
    "full_dataset_hex = full_dataset_hex[['source_text', 'target_text']]\n",
    "\n",
    "#Split train and test sets\n",
    "from sklearn.model_selection import train_test_split\n",
    "train_df, test_df = train_test_split(full_dataset_hex, test_size=0.1)"
   ]
  },
  {
   "cell_type": "code",
   "execution_count": 2,
   "id": "84144ffc",
   "metadata": {},
   "outputs": [
    {
     "data": {
      "text/html": [
       "<div>\n",
       "<style scoped>\n",
       "    .dataframe tbody tr th:only-of-type {\n",
       "        vertical-align: middle;\n",
       "    }\n",
       "\n",
       "    .dataframe tbody tr th {\n",
       "        vertical-align: top;\n",
       "    }\n",
       "\n",
       "    .dataframe thead th {\n",
       "        text-align: right;\n",
       "    }\n",
       "</style>\n",
       "<table border=\"1\" class=\"dataframe\">\n",
       "  <thead>\n",
       "    <tr style=\"text-align: right;\">\n",
       "      <th></th>\n",
       "      <th>source_text</th>\n",
       "      <th>target_text</th>\n",
       "    </tr>\n",
       "  </thead>\n",
       "  <tbody>\n",
       "    <tr>\n",
       "      <th>0</th>\n",
       "      <td>b'\\x00\\x00\\x00\\x00\\x00\\x19\\x01\\x03\\x16\\x00\\x01...</td>\n",
       "      <td>b'\\x00\\x00\\x00\\x00\\x00\\x19\\x01\\x03\\x16\\x00\\x01...</td>\n",
       "    </tr>\n",
       "    <tr>\n",
       "      <th>1</th>\n",
       "      <td>b'\\x00\\x00\\x00\\x00\\x00\\x06\\x01\\x03\\x00\\x00\\x00...</td>\n",
       "      <td>b'\\x00\\x00\\x00\\x00\\x00\\x19\\x01\\x03\\x16\\x00\\x01...</td>\n",
       "    </tr>\n",
       "    <tr>\n",
       "      <th>2</th>\n",
       "      <td>b'\\x00\\x00\\x00\\x00\\x00\\x06\\x01\\x03\\x00\\x00\\x00...</td>\n",
       "      <td>b'\\x00\\x00\\x00\\x00\\x00\\x19\\x01\\x03\\x16\\x00\\x01...</td>\n",
       "    </tr>\n",
       "    <tr>\n",
       "      <th>3</th>\n",
       "      <td>b'\\x00\\x00\\x00\\x00\\x00\\x19\\x01\\x03\\x16\\x00\\x01...</td>\n",
       "      <td>b'\\x00\\x00\\x00\\x00\\x00\\x19\\x01\\x03\\x16\\x00\\x01...</td>\n",
       "    </tr>\n",
       "    <tr>\n",
       "      <th>4</th>\n",
       "      <td>b'\\x00\\x00\\x00\\x00\\x00\\x06\\x01\\x03\\x00\\x00\\x00...</td>\n",
       "      <td>b'\\x00\\x00\\x00\\x00\\x00\\x19\\x01\\x03\\x16\\x00\\x01...</td>\n",
       "    </tr>\n",
       "    <tr>\n",
       "      <th>...</th>\n",
       "      <td>...</td>\n",
       "      <td>...</td>\n",
       "    </tr>\n",
       "    <tr>\n",
       "      <th>29988</th>\n",
       "      <td>b'\\x00\\x00\\x00\\x00\\x00\\x06\\x01\\n\\x00\\x00\\x00\\x00'</td>\n",
       "      <td>b'\\x00\\x00\\x00\\x00\\x00\\x06\\x01\\x05\\x00\\x00\\x00...</td>\n",
       "    </tr>\n",
       "    <tr>\n",
       "      <th>29989</th>\n",
       "      <td>b'\\x00\\x00\\x00\\x00\\x00\\x03\\x01\\x8c\\x03'</td>\n",
       "      <td>b'\\x00\\x00\\x00\\x00\\x00\\x03\\x01\\x07\\x15'</td>\n",
       "    </tr>\n",
       "    <tr>\n",
       "      <th>29990</th>\n",
       "      <td>b'\\x00\\x00\\x00\\x00\\x00\\x06\\x01\\x0e\\x00\\x00\\x00...</td>\n",
       "      <td>b'\\x00\\x00\\x00\\x00\\x00\\x06\\x01\\x08\\x00\\x00\\x00...</td>\n",
       "    </tr>\n",
       "    <tr>\n",
       "      <th>29991</th>\n",
       "      <td>b'\\x00\\x00\\x00\\x00\\x00\\x06\\x017\\x00\\x00\\x00\\x00'</td>\n",
       "      <td>b'\\x00\\x00\\x00\\x00\\x00\\x06\\x01(\\x05\\x02\\x00\\x00'</td>\n",
       "    </tr>\n",
       "    <tr>\n",
       "      <th>29992</th>\n",
       "      <td>b'\\x00\\x00\\x00\\x00\\x00\\x06\\x01:\\x00\\x00\\x00\\x00'</td>\n",
       "      <td>b'\\x00\\x00\\x00\\x00\\x00\\x06\\x01*\\x03\\x00\\x01\\x00'</td>\n",
       "    </tr>\n",
       "  </tbody>\n",
       "</table>\n",
       "<p>29993 rows × 2 columns</p>\n",
       "</div>"
      ],
      "text/plain": [
       "                                             source_text  \\\n",
       "0      b'\\x00\\x00\\x00\\x00\\x00\\x19\\x01\\x03\\x16\\x00\\x01...   \n",
       "1      b'\\x00\\x00\\x00\\x00\\x00\\x06\\x01\\x03\\x00\\x00\\x00...   \n",
       "2      b'\\x00\\x00\\x00\\x00\\x00\\x06\\x01\\x03\\x00\\x00\\x00...   \n",
       "3      b'\\x00\\x00\\x00\\x00\\x00\\x19\\x01\\x03\\x16\\x00\\x01...   \n",
       "4      b'\\x00\\x00\\x00\\x00\\x00\\x06\\x01\\x03\\x00\\x00\\x00...   \n",
       "...                                                  ...   \n",
       "29988  b'\\x00\\x00\\x00\\x00\\x00\\x06\\x01\\n\\x00\\x00\\x00\\x00'   \n",
       "29989            b'\\x00\\x00\\x00\\x00\\x00\\x03\\x01\\x8c\\x03'   \n",
       "29990  b'\\x00\\x00\\x00\\x00\\x00\\x06\\x01\\x0e\\x00\\x00\\x00...   \n",
       "29991   b'\\x00\\x00\\x00\\x00\\x00\\x06\\x017\\x00\\x00\\x00\\x00'   \n",
       "29992   b'\\x00\\x00\\x00\\x00\\x00\\x06\\x01:\\x00\\x00\\x00\\x00'   \n",
       "\n",
       "                                             target_text  \n",
       "0      b'\\x00\\x00\\x00\\x00\\x00\\x19\\x01\\x03\\x16\\x00\\x01...  \n",
       "1      b'\\x00\\x00\\x00\\x00\\x00\\x19\\x01\\x03\\x16\\x00\\x01...  \n",
       "2      b'\\x00\\x00\\x00\\x00\\x00\\x19\\x01\\x03\\x16\\x00\\x01...  \n",
       "3      b'\\x00\\x00\\x00\\x00\\x00\\x19\\x01\\x03\\x16\\x00\\x01...  \n",
       "4      b'\\x00\\x00\\x00\\x00\\x00\\x19\\x01\\x03\\x16\\x00\\x01...  \n",
       "...                                                  ...  \n",
       "29988  b'\\x00\\x00\\x00\\x00\\x00\\x06\\x01\\x05\\x00\\x00\\x00...  \n",
       "29989            b'\\x00\\x00\\x00\\x00\\x00\\x03\\x01\\x07\\x15'  \n",
       "29990  b'\\x00\\x00\\x00\\x00\\x00\\x06\\x01\\x08\\x00\\x00\\x00...  \n",
       "29991   b'\\x00\\x00\\x00\\x00\\x00\\x06\\x01(\\x05\\x02\\x00\\x00'  \n",
       "29992   b'\\x00\\x00\\x00\\x00\\x00\\x06\\x01*\\x03\\x00\\x01\\x00'  \n",
       "\n",
       "[29993 rows x 2 columns]"
      ]
     },
     "execution_count": 2,
     "metadata": {},
     "output_type": "execute_result"
    }
   ],
   "source": [
    "full_dataset_hex"
   ]
  },
  {
   "cell_type": "code",
   "execution_count": 12,
   "id": "7df4babe",
   "metadata": {},
   "outputs": [],
   "source": [
    "#recent str (big dataset)\n",
    "model.load_model(\"byt5\", \"outputs/simplet5-epoch-4-train-loss-0.0036-val-loss-0.0033\", use_gpu=True)"
   ]
  },
  {
   "cell_type": "code",
   "execution_count": 7,
   "id": "5443e96e",
   "metadata": {},
   "outputs": [
    {
     "name": "stdout",
     "output_type": "stream",
     "text": [
      "Query is: b'\\x00\\x00\\x00\\x00\\x00\\x19\\x01\\x03\\x16\\x00\\x01\\x00\\x00\\x00\\x00\\x00\\x00\\x00\\x00\\x00\\x00\\x00\\x1f\\x00\\x00\\x00\\x00\\x00\\x00\\x00\\x00'\n",
      "Predicted response is: [\"b'\\\\x00\\\\x00\\\\x00\\\\x00\\\\x00\\\\x19\\\\x01\\\\x03\\\\x16\\\\x00\\\\x01\\\\x00\\\\x00\\\\x00\\\\x00\\\\x00\\\\x00\\\\x00\\\\x00\\\\x00\\\\x00\\\\x00\\\\x1e\\\\x00\\\\x00\\\\x00\\\\x00\\\\x00\\\\x00\\\\x00\\\\x00'\"]\n",
      "The actual target text is: b'\\x00\\x00\\x00\\x00\\x00\\x19\\x01\\x03\\x16\\x00\\x01\\x00\\x00\\x00\\x00\\x00\\x00\\x00\\x00\\x00\\x00\\x00\\x1f\\x00\\x00\\x00\\x00\\x00\\x00\\x00\\x00'\n"
     ]
    }
   ],
   "source": [
    "n = 0\n",
    "packet_sent = full_dataset_hex['source_text'][n]\n",
    "packet_received = model.predict(packet_sent)\n",
    "print(\"Query is:\", packet_sent)\n",
    "print(\"Predicted response is:\",packet_received)\n",
    "print(\"The actual target text is:\", full_dataset_hex['target_text'][n])"
   ]
  },
  {
   "cell_type": "code",
   "execution_count": 8,
   "id": "c6fc6932",
   "metadata": {},
   "outputs": [
    {
     "name": "stdout",
     "output_type": "stream",
     "text": [
      "Query is: b'\\x00\\x00\\x00\\x00\\x00\\x03\\x01\\x8c\\x03'\n",
      "Predicted response is: [\"b'\\\\x00\\\\x00\\\\x00\\\\x00\\\\x00\\\\x19\\\\x01\\\\x03\\\\x16\\\\x00\\\\x01\\\\x00\\\\x00\\\\x00\\\\x00\\\\x00\\\\x00\\\\x00\\\\x00\\\\x00\\\\x00\\\\x00\\\\x1e\\\\x00\\\\x00\\\\x00\\\\x00\\\\x00\\\\x00\\\\x00\\\\x00'\"]\n",
      "The actual target text is: b'\\x00\\x00\\x00\\x00\\x00\\x03\\x01\\x07\\x15'\n"
     ]
    }
   ],
   "source": [
    "n = 29989\n",
    "packet_sent = full_dataset_hex['source_text'][n]\n",
    "packet_received = model.predict(packet_sent)\n",
    "print(\"Query is:\", packet_sent)\n",
    "print(\"Predicted response is:\",packet_received)\n",
    "print(\"The actual target text is:\", full_dataset_hex['target_text'][n])"
   ]
  },
  {
   "cell_type": "code",
   "execution_count": 4,
   "id": "24359ab6",
   "metadata": {},
   "outputs": [
    {
     "name": "stdout",
     "output_type": "stream",
     "text": [
      "b'\\x00\\x00\\x00\\x00\\x00\\x06\\x017\\x00\\x00\\x00\\x00'\n",
      "b'\\x00\\x00\\x00\\x00\\x00\\x06\\x01(\\x05\\x02\\x00\\x00'\n"
     ]
    }
   ],
   "source": [
    "print(full_dataset_hex['source_text'][29991])\n",
    "print(full_dataset_hex['target_text'][29991])"
   ]
  },
  {
   "cell_type": "code",
   "execution_count": 5,
   "id": "51c0ac57",
   "metadata": {},
   "outputs": [],
   "source": [
    "df_1 = pd.read_csv(\"df_out_0,5h_hex.csv\") \n",
    "df_2 = pd.read_csv(\"df_out_1h_hex.csv\") \n",
    "df_3 = pd.read_csv(\"df_out_6h_hex.csv\") \n",
    "df_4 = pd.read_csv(\"df_out_modbus_hex.csv\")\n",
    "df_5 = pd.read_csv(\"df_out_modbus_test_part1_hex.csv\") \n",
    "df_6 = pd.read_csv(\"df_out_modbus_polling6RTU_hex.csv\") \n",
    "df_7 = pd.read_csv(\"df_out_modbus_test_part1,1_hex.csv\") \n",
    "df_8 = pd.read_csv(\"df_out_modbus_test_part2_hex.csv\") \n",
    "df_9 = pd.read_csv(\"df_out_modbus_test_part2,2_hex.csv\") \n",
    "\n",
    "full_dataset_hex = pd.concat([df_1.set_index('Unnamed: 0'), df_2.set_index('Unnamed: 0'),df_3.set_index('Unnamed: 0'),df_4.set_index('Unnamed: 0'), df_5.set_index('Unnamed: 0'),df_6.set_index('Unnamed: 0'), df_7.set_index('Unnamed: 0'),df_8.set_index('Unnamed: 0'), df_9.set_index('Unnamed: 0')], axis = 0)\n"
   ]
  },
  {
   "cell_type": "code",
   "execution_count": 10,
   "id": "e6d5603b",
   "metadata": {},
   "outputs": [
    {
     "data": {
      "text/plain": [
       "Unnamed: 0\n",
       "1    b'\\x00\\x00\\x00\\x00\\x00\\x06\\x01\\x03\\x00\\x00\\x00...\n",
       "1    b'\\x00\\x01\\x00\\x00\\x00\\x06\\x01\\x06\\x00\\x06\\x00...\n",
       "1    b'\\x00\\x00\\x00\\x00\\x00\\x19\\x01\\x03\\x16\\x00\\x01...\n",
       "1         b'\\x00\\xd2\\x00\\x00\\x00\\x05\\x01\\x03\\x02A\\xc8'\n",
       "1                    b'\\x00\\x00\\x00\\x00\\x00\\x02\\n\\x11'\n",
       "1    b'\\x05\\x94\\x00\\x00\\x00\\x0b\\x01\\x03\\x08\\x00\\x00...\n",
       "1                    b'\\x00\\x00\\x00\\x00\\x00\\x02\\n\\x11'\n",
       "1              b'\\x00\\x00\\x00\\x00\\x00\\x03\\x01\\x8c\\x03'\n",
       "1              b'\\x00\\x00\\x00\\x00\\x00\\x03\\x01\\x8c\\x03'\n",
       "Name: source_text, dtype: object"
      ]
     },
     "execution_count": 10,
     "metadata": {},
     "output_type": "execute_result"
    }
   ],
   "source": [
    "full_dataset_hex['source_text'][1]"
   ]
  },
  {
   "cell_type": "code",
   "execution_count": 14,
   "id": "bca7c043",
   "metadata": {},
   "outputs": [
    {
     "name": "stdout",
     "output_type": "stream",
     "text": [
      "Query is: b'\\x00\\x00\\x00\\x00\\x00\\x06\\x017\\x00\\x00\\x00\\x00'\n",
      "Predicted response is: [\"b'\\\\x00\\\\x00\\\\x00\\\\x00\\\\x00\\\\x06\\\\x01(\\\\x05\\\\x01\\\\x00\\\\x00'\"]\n",
      "The actual target text is: b'\\x00\\x00\\x00\\x00\\x00\\x06\\x01(\\x05\\x02\\x00\\x00'\n"
     ]
    }
   ],
   "source": [
    "n = 29991\n",
    "packet_sent = full_dataset_hex['source_text'][n]\n",
    "packet_received = model.predict(packet_sent)\n",
    "print(\"Query is:\", packet_sent)\n",
    "print(\"Predicted response is:\",packet_received)\n",
    "print(\"The actual target text is:\", full_dataset_hex['target_text'][n])"
   ]
  },
  {
   "cell_type": "code",
   "execution_count": 15,
   "id": "82a09cef",
   "metadata": {},
   "outputs": [
    {
     "name": "stderr",
     "output_type": "stream",
     "text": [
      "/home/dunia/byt5-draft/byt5/lib/python3.10/site-packages/transformers/models/byt5/tokenization_byt5.py:148: UserWarning: This sequence already has </s>. In future versions this behavior may lead to duplicated eos tokens being added.\n",
      "  warnings.warn(\n"
     ]
    },
    {
     "name": "stdout",
     "output_type": "stream",
     "text": [
      "Predicted packet response is: [\"b'\\\\x06_\\\\x00\\\\x00\\\\x00\\\\x00\\\\x04\\\\x01\\\\x01\\\\x01\\\\x03'\"]\n"
     ]
    }
   ],
   "source": [
    "#with context on the packet\n",
    "import torch\n",
    "from transformers import ByT5Tokenizer\n",
    "tokenizer = ByT5Tokenizer.from_pretrained(\"google/byt5-small\")\n",
    "\n",
    "context = \"\"\"Query: b'\\x00\\x00\\x00\\x00\\x00\\x06\\x01\\x0e\\x00\\x00\\x00\\x00'Response: b'\\x00\\x00\\x00\\x00\\x00\\x06\\x01\\x08\\x00\\x00\\x00\\x00'\"\"\"\n",
    "question = \"b'\\x00\\x00\\x00\\x00\\x00\\x06\\x017\\x00\\x00\\x00\\x00'\"\n",
    "\n",
    "inputs = model.tokenizer([context],[question], return_tensors=\"pt\")\n",
    "output = tokenizer.decode(inputs['input_ids'][0])\n",
    "answer = model.predict(output)\n",
    "\n",
    "print(\"Predicted packet response is:\", answer)"
   ]
  },
  {
   "cell_type": "code",
   "execution_count": null,
   "id": "047d37e1",
   "metadata": {},
   "outputs": [],
   "source": []
  }
 ],
 "metadata": {
  "kernelspec": {
   "display_name": "Python 3 (ipykernel)",
   "language": "python",
   "name": "python3"
  },
  "language_info": {
   "codemirror_mode": {
    "name": "ipython",
    "version": 3
   },
   "file_extension": ".py",
   "mimetype": "text/x-python",
   "name": "python",
   "nbconvert_exporter": "python",
   "pygments_lexer": "ipython3",
   "version": "3.10.12"
  }
 },
 "nbformat": 4,
 "nbformat_minor": 5
}
